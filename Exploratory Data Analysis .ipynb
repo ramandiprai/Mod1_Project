{
 "cells": [
  {
   "cell_type": "markdown",
   "metadata": {},
   "source": [
    "## Final Project Submission\n",
    "\n",
    "* Student name: Ramandip Rai (Roma)\n",
    "* Student pace: self paced \n",
    "* Scheduled project review date/time: Monday 29th March, 9:30am\n",
    "* Instructor name: Jeff Herman\n",
    "* Blog post URL:\n",
    "\n"
   ]
  },
  {
   "cell_type": "markdown",
   "metadata": {},
   "source": [
    "\n",
    "**<font size=\"3\">Context:</font>**\n",
    "Microsoft sees all the big companies creating original video content, and they want to get in on the fun. They have decided to create a new movie studio, but the problem is they don’t know anything about creating movies. \n",
    "\n",
    "**<font size=\"3\">Task:</font>**\n",
    "To help Microsoft better understand the movie industry through exploring what types of films are currently doing best at the box office. Then translate findings into actionable insights that the CEO can use when deciding what type of films they should be creating.\n",
    "\n",
    "\n",
    "**<font size=\"3\">Approach:</font>**\n",
    "Data analyis through posing a question, and then investigating the relevant datasets to reach actionable insights for Microsoft. <br> \n",
    "\n",
    "This notebook covers EDA on the following 3 aspects of movie production:\n",
    "1. Movie genre\n",
    "2. Movie run-time with production budget\n",
    "3. Movie studios"
   ]
  },
  {
   "cell_type": "markdown",
   "metadata": {},
   "source": [
    "# The Datasets "
   ]
  },
  {
   "cell_type": "markdown",
   "metadata": {},
   "source": [
    "This section covers the first step of the project; gathering and organising the data files.\n",
    "To aid with this process, I will be using Python's **'os'** and **'glob'** modules. The functions in these modules will improve efficacy for accessing files and cleaning filenames."
   ]
  },
  {
   "cell_type": "code",
   "execution_count": 1,
   "metadata": {},
   "outputs": [],
   "source": [
    "#import libraries \n",
    "import os\n",
    "import glob  #can specify a pattern to find pathnames in file system\n",
    "import pandas as pd\n",
    "import numpy as np\n",
    "import matplotlib.pyplot as plt\n",
    "import seaborn as sns \n",
    "\n",
    "%matplotlib inline"
   ]
  },
  {
   "cell_type": "code",
   "execution_count": 2,
   "metadata": {},
   "outputs": [
    {
     "name": "stdout",
     "output_type": "stream",
     "text": [
      "CONTRIBUTING.md                   awesome.gif\r\n",
      "Exploratory Data Analysis .ipynb  module1_project_rubric.pdf\r\n",
      "LICENSE.md                        student.ipynb\r\n",
      "README.md                         \u001b[34mzippedData\u001b[m\u001b[m/\r\n"
     ]
    }
   ],
   "source": [
    "ls  "
   ]
  },
  {
   "cell_type": "code",
   "execution_count": 3,
   "metadata": {},
   "outputs": [
    {
     "name": "stdout",
     "output_type": "stream",
     "text": [
      "The following data files will be used for the project: \n",
      "zippeddata/imdb.title.crew.csv.gz\n",
      "zippeddata/tmdb.movies.csv.gz\n",
      "zippeddata/imdb.title.akas.csv.gz\n",
      "zippeddata/imdb.title.ratings.csv.gz\n",
      "zippeddata/imdb.name.basics.csv.gz\n",
      "zippeddata/imdb.title.basics.csv.gz\n",
      "zippeddata/tn.movie_budgets.csv.gz\n",
      "zippeddata/bom.movie_gross.csv.gz\n",
      "zippeddata/imdb.title.principals.csv.gz\n",
      "zippeddata/rt.reviews.tsv.gz\n",
      "zippeddata/rt.movie_info.tsv.gz\n",
      "\n",
      "\n",
      "Total number of data files is: 11\n"
     ]
    }
   ],
   "source": [
    "#creating separate lists for each type of data file\n",
    "csv_files = glob.glob(\"zippeddata/*.csv.gz\")\n",
    "tsv_files = glob.glob(\"zippeddata/*.tsv.gz\")\n",
    "\n",
    "print(\"The following data files will be used for the project: \")\n",
    "for file in csv_files:\n",
    "    print(file)\n",
    "for file in tsv_files:\n",
    "    print(file)\n",
    "    \n",
    "print('\\n')\n",
    "\n",
    "print(\"Total number of data files is:\", len(csv_files) + len(tsv_files))"
   ]
  },
  {
   "cell_type": "markdown",
   "metadata": {},
   "source": [
    "The filenames currently hold unnecessary information and are complicated for future referencing so it will be sensible to clean these."
   ]
  },
  {
   "cell_type": "code",
   "execution_count": 4,
   "metadata": {},
   "outputs": [],
   "source": [
    "#cleaning up the filenames by removing the file extension and replacing dots with underscores\n",
    "\n",
    "data_dict = {} #empty dictionary which will be populated with key:value pairs of cleaned filenames: file imported as a df respectively\n",
    "\n",
    "for filename in csv_files:\n",
    "    filename_cleaned = os.path.basename(filename).replace(\".csv.gz\", \"\").replace(\".\", \"_\")\n",
    "    filename_df = pd.read_csv(filename, index_col =0)\n",
    "    data_dict[filename_cleaned] = filename_df\n",
    "    \n",
    "#repeated for tsv files\n",
    "for filename in tsv_files:\n",
    "    filename_cleaned = os.path.basename(filename).replace(\".tsv.gz\", \"\").replace(\".\", \"_\")\n",
    "    filename_df = pd.read_csv(filename, index_col =0, delimiter= \"\\t\", encoding = 'latin-1')\n",
    "    data_dict[filename_cleaned] = filename_df"
   ]
  },
  {
   "cell_type": "code",
   "execution_count": 5,
   "metadata": {},
   "outputs": [
    {
     "name": "stdout",
     "output_type": "stream",
     "text": [
      "imdb_title_crew\n",
      "tmdb_movies\n",
      "imdb_title_akas\n",
      "imdb_title_ratings\n",
      "imdb_name_basics\n",
      "imdb_title_basics\n",
      "tn_movie_budgets\n",
      "bom_movie_gross\n",
      "imdb_title_principals\n",
      "rt_reviews\n",
      "rt_movie_info\n"
     ]
    }
   ],
   "source": [
    "#checking the filenames have been cleaned and assigned as keys in the dictionary\n",
    "for key in data_dict.keys():\n",
    "    print(key)"
   ]
  },
  {
   "cell_type": "code",
   "execution_count": 6,
   "metadata": {},
   "outputs": [
    {
     "name": "stdout",
     "output_type": "stream",
     "text": [
      "                               directors              writers\n",
      "tconst                                                       \n",
      "tt0285252                      nm0899854            nm0899854\n",
      "tt0438973                            NaN  nm0175726,nm1802864\n",
      "tt0462036                      nm1940585            nm1940585\n",
      "tt0835418                      nm0151540  nm0310087,nm0841532\n",
      "tt0878654  nm0089502,nm2291498,nm2292011            nm0284943\n",
      "...                                  ...                  ...\n",
      "tt8999974                     nm10122357           nm10122357\n",
      "tt9001390                      nm6711477            nm6711477\n",
      "tt9001494          nm10123242,nm10123248                  NaN\n",
      "tt9004986                      nm4993825            nm4993825\n",
      "tt9010172                            NaN            nm8352242\n",
      "\n",
      "[146144 rows x 2 columns]\n",
      "                 genre_ids      id original_language  \\\n",
      "0          [12, 14, 10751]   12444                en   \n",
      "1      [14, 12, 16, 10751]   10191                en   \n",
      "2            [12, 28, 878]   10138                en   \n",
      "3          [16, 35, 10751]     862                en   \n",
      "4            [28, 878, 12]   27205                en   \n",
      "...                    ...     ...               ...   \n",
      "26512             [27, 18]  488143                en   \n",
      "26513             [18, 53]  485975                en   \n",
      "26514         [14, 28, 12]  381231                en   \n",
      "26515      [10751, 12, 28]  366854                en   \n",
      "26516             [53, 27]  309885                en   \n",
      "\n",
      "                                     original_title  popularity release_date  \\\n",
      "0      Harry Potter and the Deathly Hallows: Part 1      33.533   2010-11-19   \n",
      "1                          How to Train Your Dragon      28.734   2010-03-26   \n",
      "2                                        Iron Man 2      28.515   2010-05-07   \n",
      "3                                         Toy Story      28.005   1995-11-22   \n",
      "4                                         Inception      27.920   2010-07-16   \n",
      "...                                             ...         ...          ...   \n",
      "26512                         Laboratory Conditions       0.600   2018-10-13   \n",
      "26513                               _EXHIBIT_84xxx_       0.600   2018-05-01   \n",
      "26514                                  The Last One       0.600   2018-10-01   \n",
      "26515                                  Trailer Made       0.600   2018-06-22   \n",
      "26516                                    The Church       0.600   2018-10-05   \n",
      "\n",
      "                                              title  vote_average  vote_count  \n",
      "0      Harry Potter and the Deathly Hallows: Part 1           7.7       10788  \n",
      "1                          How to Train Your Dragon           7.7        7610  \n",
      "2                                        Iron Man 2           6.8       12368  \n",
      "3                                         Toy Story           7.9       10174  \n",
      "4                                         Inception           8.3       22186  \n",
      "...                                             ...           ...         ...  \n",
      "26512                         Laboratory Conditions           0.0           1  \n",
      "26513                               _EXHIBIT_84xxx_           0.0           1  \n",
      "26514                                  The Last One           0.0           1  \n",
      "26515                                  Trailer Made           0.0           1  \n",
      "26516                                    The Church           0.0           1  \n",
      "\n",
      "[26517 rows x 9 columns]\n",
      "           ordering                                    title region language  \\\n",
      "title_id                                                                       \n",
      "tt0369610        10                            Джурасик свят     BG       bg   \n",
      "tt0369610        11                        Jurashikku warudo     JP      NaN   \n",
      "tt0369610        12  Jurassic World: O Mundo dos Dinossauros     BR      NaN   \n",
      "tt0369610        13                  O Mundo dos Dinossauros     BR      NaN   \n",
      "tt0369610        14                           Jurassic World     FR      NaN   \n",
      "...             ...                                      ...    ...      ...   \n",
      "tt9827784         2                       Sayonara kuchibiru    NaN      NaN   \n",
      "tt9827784         3                            Farewell Song    XWW       en   \n",
      "tt9880178         1                              La atención    NaN      NaN   \n",
      "tt9880178         2                              La atención     ES      NaN   \n",
      "tt9880178         3                            The Attention    XWW       en   \n",
      "\n",
      "                 types   attributes  is_original_title  \n",
      "title_id                                                \n",
      "tt0369610          NaN          NaN                0.0  \n",
      "tt0369610  imdbDisplay          NaN                0.0  \n",
      "tt0369610  imdbDisplay          NaN                0.0  \n",
      "tt0369610          NaN  short title                0.0  \n",
      "tt0369610  imdbDisplay          NaN                0.0  \n",
      "...                ...          ...                ...  \n",
      "tt9827784     original          NaN                1.0  \n",
      "tt9827784  imdbDisplay          NaN                0.0  \n",
      "tt9880178     original          NaN                1.0  \n",
      "tt9880178          NaN          NaN                0.0  \n",
      "tt9880178  imdbDisplay          NaN                0.0  \n",
      "\n",
      "[331703 rows x 7 columns]\n",
      "            averagerating  numvotes\n",
      "tconst                             \n",
      "tt10356526            8.3        31\n",
      "tt10384606            8.9       559\n",
      "tt1042974             6.4        20\n",
      "tt1043726             4.2     50352\n",
      "tt1060240             6.5        21\n",
      "...                   ...       ...\n",
      "tt9805820             8.1        25\n",
      "tt9844256             7.5        24\n",
      "tt9851050             4.7        14\n",
      "tt9886934             7.0         5\n",
      "tt9894098             6.3       128\n",
      "\n",
      "[73856 rows x 2 columns]\n",
      "                  primary_name  birth_year  death_year  \\\n",
      "nconst                                                   \n",
      "nm0061671    Mary Ellen Bauder         NaN         NaN   \n",
      "nm0061865         Joseph Bauer         NaN         NaN   \n",
      "nm0062070           Bruce Baum         NaN         NaN   \n",
      "nm0062195         Axel Baumann         NaN         NaN   \n",
      "nm0062798          Pete Baxter         NaN         NaN   \n",
      "...                        ...         ...         ...   \n",
      "nm9990381         Susan Grobes         NaN         NaN   \n",
      "nm9990690          Joo Yeon So         NaN         NaN   \n",
      "nm9991320       Madeline Smith         NaN         NaN   \n",
      "nm9991786  Michelle Modigliani         NaN         NaN   \n",
      "nm9993380       Pegasus Envoyé         NaN         NaN   \n",
      "\n",
      "                                         primary_profession  \\\n",
      "nconst                                                        \n",
      "nm0061671         miscellaneous,production_manager,producer   \n",
      "nm0061865        composer,music_department,sound_department   \n",
      "nm0062070                        miscellaneous,actor,writer   \n",
      "nm0062195  camera_department,cinematographer,art_department   \n",
      "nm0062798  production_designer,art_department,set_decorator   \n",
      "...                                                     ...   \n",
      "nm9990381                                           actress   \n",
      "nm9990690                                           actress   \n",
      "nm9991320                                           actress   \n",
      "nm9991786                                          producer   \n",
      "nm9993380                             director,actor,writer   \n",
      "\n",
      "                                  known_for_titles  \n",
      "nconst                                              \n",
      "nm0061671  tt0837562,tt2398241,tt0844471,tt0118553  \n",
      "nm0061865  tt0896534,tt6791238,tt0287072,tt1682940  \n",
      "nm0062070  tt1470654,tt0363631,tt0104030,tt0102898  \n",
      "nm0062195  tt0114371,tt2004304,tt1618448,tt1224387  \n",
      "nm0062798  tt0452644,tt0452692,tt3458030,tt2178256  \n",
      "...                                            ...  \n",
      "nm9990381                                      NaN  \n",
      "nm9990690                      tt9090932,tt8737130  \n",
      "nm9991320                      tt8734436,tt9615610  \n",
      "nm9991786                                      NaN  \n",
      "nm9993380                                tt8743182  \n",
      "\n",
      "[606648 rows x 5 columns]\n",
      "                                         primary_title  \\\n",
      "tconst                                                   \n",
      "tt0063540                                    Sunghursh   \n",
      "tt0066787              One Day Before the Rainy Season   \n",
      "tt0069049                   The Other Side of the Wind   \n",
      "tt0069204                              Sabse Bada Sukh   \n",
      "tt0100275                     The Wandering Soap Opera   \n",
      "...                                                ...   \n",
      "tt9916538                          Kuambil Lagi Hatiku   \n",
      "tt9916622  Rodolpho Teóphilo - O Legado de um Pioneiro   \n",
      "tt9916706                              Dankyavar Danka   \n",
      "tt9916730                                       6 Gunn   \n",
      "tt9916754               Chico Albuquerque - Revelações   \n",
      "\n",
      "                                        original_title  start_year  \\\n",
      "tconst                                                               \n",
      "tt0063540                                    Sunghursh        2013   \n",
      "tt0066787                              Ashad Ka Ek Din        2019   \n",
      "tt0069049                   The Other Side of the Wind        2018   \n",
      "tt0069204                              Sabse Bada Sukh        2018   \n",
      "tt0100275                        La Telenovela Errante        2017   \n",
      "...                                                ...         ...   \n",
      "tt9916538                          Kuambil Lagi Hatiku        2019   \n",
      "tt9916622  Rodolpho Teóphilo - O Legado de um Pioneiro        2015   \n",
      "tt9916706                              Dankyavar Danka        2013   \n",
      "tt9916730                                       6 Gunn        2017   \n",
      "tt9916754               Chico Albuquerque - Revelações        2013   \n",
      "\n",
      "           runtime_minutes                genres  \n",
      "tconst                                            \n",
      "tt0063540            175.0    Action,Crime,Drama  \n",
      "tt0066787            114.0       Biography,Drama  \n",
      "tt0069049            122.0                 Drama  \n",
      "tt0069204              NaN          Comedy,Drama  \n",
      "tt0100275             80.0  Comedy,Drama,Fantasy  \n",
      "...                    ...                   ...  \n",
      "tt9916538            123.0                 Drama  \n",
      "tt9916622              NaN           Documentary  \n",
      "tt9916706              NaN                Comedy  \n",
      "tt9916730            116.0                   NaN  \n",
      "tt9916754              NaN           Documentary  \n",
      "\n",
      "[146144 rows x 5 columns]\n",
      "    release_date                                        movie  \\\n",
      "id                                                              \n",
      "1   Dec 18, 2009                                       Avatar   \n",
      "2   May 20, 2011  Pirates of the Caribbean: On Stranger Tides   \n",
      "3    Jun 7, 2019                                 Dark Phoenix   \n",
      "4    May 1, 2015                      Avengers: Age of Ultron   \n",
      "5   Dec 15, 2017            Star Wars Ep. VIII: The Last Jedi   \n",
      "..           ...                                          ...   \n",
      "78  Dec 31, 2018                                       Red 11   \n",
      "79   Apr 2, 1999                                    Following   \n",
      "80  Jul 13, 2005                Return to the Land of Wonders   \n",
      "81  Sep 29, 2015                         A Plague So Pleasant   \n",
      "82   Aug 5, 2005                            My Date With Drew   \n",
      "\n",
      "   production_budget domestic_gross worldwide_gross  \n",
      "id                                                   \n",
      "1       $425,000,000   $760,507,625  $2,776,345,279  \n",
      "2       $410,600,000   $241,063,875  $1,045,663,875  \n",
      "3       $350,000,000    $42,762,350    $149,762,350  \n",
      "4       $330,600,000   $459,005,868  $1,403,013,963  \n",
      "5       $317,000,000   $620,181,382  $1,316,721,747  \n",
      "..               ...            ...             ...  \n",
      "78            $7,000             $0              $0  \n",
      "79            $6,000        $48,482        $240,495  \n",
      "80            $5,000         $1,338          $1,338  \n",
      "81            $1,400             $0              $0  \n",
      "82            $1,100       $181,041        $181,041  \n",
      "\n",
      "[5782 rows x 5 columns]\n",
      "                                                 studio  domestic_gross  \\\n",
      "title                                                                     \n",
      "Toy Story 3                                          BV     415000000.0   \n",
      "Alice in Wonderland (2010)                           BV     334200000.0   \n",
      "Harry Potter and the Deathly Hallows Part 1          WB     296000000.0   \n",
      "Inception                                            WB     292600000.0   \n",
      "Shrek Forever After                                P/DW     238700000.0   \n",
      "...                                                 ...             ...   \n",
      "The Quake                                         Magn.          6200.0   \n",
      "Edward II (2018 re-release)                          FM          4800.0   \n",
      "El Pacto                                           Sony          2500.0   \n",
      "The Swan                                     Synergetic          2400.0   \n",
      "An Actor Prepares                                 Grav.          1700.0   \n",
      "\n",
      "                                            foreign_gross  year  \n",
      "title                                                            \n",
      "Toy Story 3                                     652000000  2010  \n",
      "Alice in Wonderland (2010)                      691300000  2010  \n",
      "Harry Potter and the Deathly Hallows Part 1     664300000  2010  \n",
      "Inception                                       535700000  2010  \n",
      "Shrek Forever After                             513900000  2010  \n",
      "...                                                   ...   ...  \n",
      "The Quake                                             NaN  2018  \n",
      "Edward II (2018 re-release)                           NaN  2018  \n",
      "El Pacto                                              NaN  2018  \n",
      "The Swan                                              NaN  2018  \n",
      "An Actor Prepares                                     NaN  2018  \n",
      "\n",
      "[3387 rows x 4 columns]\n",
      "           ordering      nconst  category       job            characters\n",
      "tconst                                                                   \n",
      "tt0111414         1   nm0246005     actor       NaN           [\"The Man\"]\n",
      "tt0111414         2   nm0398271  director       NaN                   NaN\n",
      "tt0111414         3   nm3739909  producer  producer                   NaN\n",
      "tt0323808        10   nm0059247    editor       NaN                   NaN\n",
      "tt0323808         1   nm3579312   actress       NaN      [\"Beth Boothby\"]\n",
      "...             ...         ...       ...       ...                   ...\n",
      "tt9692684         1   nm0186469     actor       NaN  [\"Ebenezer Scrooge\"]\n",
      "tt9692684         2   nm4929530      self       NaN   [\"Herself\",\"Regan\"]\n",
      "tt9692684         3  nm10441594  director       NaN                   NaN\n",
      "tt9692684         4   nm6009913    writer    writer                   NaN\n",
      "tt9692684         5  nm10441595  producer  producer                   NaN\n",
      "\n",
      "[1028186 rows x 5 columns]\n",
      "                                                 review rating   fresh  \\\n",
      "id                                                                       \n",
      "3     A distinctly gallows take on contemporary fina...    3/5   fresh   \n",
      "3     It's an allegory in search of a meaning that n...    NaN  rotten   \n",
      "3     ... life lived in a bubble in financial dealin...    NaN   fresh   \n",
      "3     Continuing along a line introduced in last yea...    NaN   fresh   \n",
      "3                ... a perverse twist on neorealism...     NaN   fresh   \n",
      "...                                                 ...    ...     ...   \n",
      "2000  The real charm of this trifle is the deadpan c...    NaN   fresh   \n",
      "2000                                                NaN    1/5  rotten   \n",
      "2000                                                NaN    2/5  rotten   \n",
      "2000                                                NaN  2.5/5  rotten   \n",
      "2000                                                NaN    3/5   fresh   \n",
      "\n",
      "                 critic  top_critic         publisher                date  \n",
      "id                                                                         \n",
      "3            PJ Nabarro           0   Patrick Nabarro   November 10, 2018  \n",
      "3        Annalee Newitz           0           io9.com        May 23, 2018  \n",
      "3          Sean Axmaker           0  Stream on Demand     January 4, 2018  \n",
      "3         Daniel Kasman           0              MUBI   November 16, 2017  \n",
      "3                   NaN           0      Cinema Scope    October 12, 2017  \n",
      "...                 ...         ...               ...                 ...  \n",
      "2000      Laura Sinagra           1     Village Voice  September 24, 2002  \n",
      "2000  Michael Szymanski           0        Zap2it.com  September 21, 2005  \n",
      "2000       Emanuel Levy           0   EmanuelLevy.Com       July 17, 2005  \n",
      "2000   Christopher Null           0    Filmcritic.com   September 7, 2003  \n",
      "2000    Nicolas Lacroix           0      Showbizz.net   November 12, 2002  \n",
      "\n",
      "[54432 rows x 7 columns]\n",
      "                                               synopsis rating  \\\n",
      "id                                                               \n",
      "1     This gritty, fast-paced, and innovative police...      R   \n",
      "3     New York City, not-too-distant-future: Eric Pa...      R   \n",
      "5     Illeana Douglas delivers a superb performance ...      R   \n",
      "6     Michael Douglas runs afoul of a treacherous su...      R   \n",
      "7                                                   NaN     NR   \n",
      "...                                                 ...    ...   \n",
      "1996  Forget terrorists or hijackers -- there's a ha...      R   \n",
      "1997  The popular Saturday Night Live sketch was exp...     PG   \n",
      "1998  Based on a novel by Richard Powell, when the l...      G   \n",
      "1999  The Sandlot is a coming-of-age story about a g...     PG   \n",
      "2000  Suspended from the force, Paris cop Hubert is ...      R   \n",
      "\n",
      "                                                  genre            director  \\\n",
      "id                                                                            \n",
      "1                   Action and Adventure|Classics|Drama    William Friedkin   \n",
      "3                     Drama|Science Fiction and Fantasy    David Cronenberg   \n",
      "5                     Drama|Musical and Performing Arts      Allison Anders   \n",
      "6                            Drama|Mystery and Suspense      Barry Levinson   \n",
      "7                                         Drama|Romance      Rodney Bennett   \n",
      "...                                                 ...                 ...   \n",
      "1996   Action and Adventure|Horror|Mystery and Suspense                 NaN   \n",
      "1997                 Comedy|Science Fiction and Fantasy        Steve Barron   \n",
      "1998  Classics|Comedy|Drama|Musical and Performing Arts      Gordon Douglas   \n",
      "1999    Comedy|Drama|Kids and Family|Sports and Fitness  David Mickey Evans   \n",
      "2000  Action and Adventure|Art House and Internation...                 NaN   \n",
      "\n",
      "                                                writer  theater_date  \\\n",
      "id                                                                     \n",
      "1                                       Ernest Tidyman   Oct 9, 1971   \n",
      "3                         David Cronenberg|Don DeLillo  Aug 17, 2012   \n",
      "5                                       Allison Anders  Sep 13, 1996   \n",
      "6                      Paul Attanasio|Michael Crichton   Dec 9, 1994   \n",
      "7                                         Giles Cooper           NaN   \n",
      "...                                                ...           ...   \n",
      "1996                                               NaN  Aug 18, 2006   \n",
      "1997  Terry Turner|Tom Davis|Dan Aykroyd|Bonnie Turner  Jul 23, 1993   \n",
      "1998                                               NaN   Jan 1, 1962   \n",
      "1999                  David Mickey Evans|Robert Gunter   Apr 1, 1993   \n",
      "2000                                        Luc Besson  Sep 27, 2001   \n",
      "\n",
      "          dvd_date currency  box_office      runtime             studio  \n",
      "id                                                                       \n",
      "1     Sep 25, 2001      NaN         NaN  104 minutes                NaN  \n",
      "3      Jan 1, 2013        $     600,000  108 minutes  Entertainment One  \n",
      "5     Apr 18, 2000      NaN         NaN  116 minutes                NaN  \n",
      "6     Aug 27, 1997      NaN         NaN  128 minutes                NaN  \n",
      "7              NaN      NaN         NaN  200 minutes                NaN  \n",
      "...            ...      ...         ...          ...                ...  \n",
      "1996   Jan 2, 2007        $  33,886,034  106 minutes    New Line Cinema  \n",
      "1997  Apr 17, 2001      NaN         NaN   88 minutes  Paramount Vantage  \n",
      "1998  May 11, 2004      NaN         NaN  111 minutes                NaN  \n",
      "1999  Jan 29, 2002      NaN         NaN  101 minutes                NaN  \n",
      "2000  Feb 11, 2003      NaN         NaN   94 minutes  Columbia Pictures  \n",
      "\n",
      "[1560 rows x 11 columns]\n"
     ]
    }
   ],
   "source": [
    "#viewing the DFs to ensure they have been assigned as values in the dictionary \n",
    "for value in data_dict.values():\n",
    "    print(value)"
   ]
  },
  {
   "cell_type": "code",
   "execution_count": 7,
   "metadata": {},
   "outputs": [
    {
     "data": {
      "text/plain": [
       "True"
      ]
     },
     "execution_count": 7,
     "metadata": {},
     "output_type": "execute_result"
    }
   ],
   "source": [
    "#Confirming all files have been included\n",
    "\n",
    "len(data_dict) == len(csv_files) + len(tsv_files)"
   ]
  },
  {
   "cell_type": "markdown",
   "metadata": {},
   "source": [
    "I am satisfied the following has been done:\n",
    "\n",
    "1. filenames have been cleaned \n",
    "2. each 'cleaned filename' and respective dataframe have been assigned as a key-value pair in the data dictionary \n",
    "3. all files have been included"
   ]
  },
  {
   "cell_type": "markdown",
   "metadata": {},
   "source": [
    "# Exploratory Data Analysis "
   ]
  },
  {
   "cell_type": "markdown",
   "metadata": {},
   "source": [
    "## Q1 - Which are the highest rated genres?"
   ]
  },
  {
   "cell_type": "code",
   "execution_count": 8,
   "metadata": {},
   "outputs": [],
   "source": [
    "#The dataframes required for this analysis\n",
    "imdb_title_basics = data_dict['imdb_title_basics']\n",
    "imdb_title_ratings = data_dict['imdb_title_ratings']"
   ]
  },
  {
   "cell_type": "code",
   "execution_count": 9,
   "metadata": {
    "scrolled": true
   },
   "outputs": [
    {
     "data": {
      "text/html": [
       "<div>\n",
       "<style scoped>\n",
       "    .dataframe tbody tr th:only-of-type {\n",
       "        vertical-align: middle;\n",
       "    }\n",
       "\n",
       "    .dataframe tbody tr th {\n",
       "        vertical-align: top;\n",
       "    }\n",
       "\n",
       "    .dataframe thead th {\n",
       "        text-align: right;\n",
       "    }\n",
       "</style>\n",
       "<table border=\"1\" class=\"dataframe\">\n",
       "  <thead>\n",
       "    <tr style=\"text-align: right;\">\n",
       "      <th></th>\n",
       "      <th>primary_title</th>\n",
       "      <th>original_title</th>\n",
       "      <th>start_year</th>\n",
       "      <th>runtime_minutes</th>\n",
       "      <th>genres</th>\n",
       "    </tr>\n",
       "    <tr>\n",
       "      <th>tconst</th>\n",
       "      <th></th>\n",
       "      <th></th>\n",
       "      <th></th>\n",
       "      <th></th>\n",
       "      <th></th>\n",
       "    </tr>\n",
       "  </thead>\n",
       "  <tbody>\n",
       "    <tr>\n",
       "      <td>tt0063540</td>\n",
       "      <td>Sunghursh</td>\n",
       "      <td>Sunghursh</td>\n",
       "      <td>2013</td>\n",
       "      <td>175.0</td>\n",
       "      <td>Action,Crime,Drama</td>\n",
       "    </tr>\n",
       "    <tr>\n",
       "      <td>tt0066787</td>\n",
       "      <td>One Day Before the Rainy Season</td>\n",
       "      <td>Ashad Ka Ek Din</td>\n",
       "      <td>2019</td>\n",
       "      <td>114.0</td>\n",
       "      <td>Biography,Drama</td>\n",
       "    </tr>\n",
       "    <tr>\n",
       "      <td>tt0069049</td>\n",
       "      <td>The Other Side of the Wind</td>\n",
       "      <td>The Other Side of the Wind</td>\n",
       "      <td>2018</td>\n",
       "      <td>122.0</td>\n",
       "      <td>Drama</td>\n",
       "    </tr>\n",
       "    <tr>\n",
       "      <td>tt0069204</td>\n",
       "      <td>Sabse Bada Sukh</td>\n",
       "      <td>Sabse Bada Sukh</td>\n",
       "      <td>2018</td>\n",
       "      <td>NaN</td>\n",
       "      <td>Comedy,Drama</td>\n",
       "    </tr>\n",
       "    <tr>\n",
       "      <td>tt0100275</td>\n",
       "      <td>The Wandering Soap Opera</td>\n",
       "      <td>La Telenovela Errante</td>\n",
       "      <td>2017</td>\n",
       "      <td>80.0</td>\n",
       "      <td>Comedy,Drama,Fantasy</td>\n",
       "    </tr>\n",
       "  </tbody>\n",
       "</table>\n",
       "</div>"
      ],
      "text/plain": [
       "                             primary_title              original_title  \\\n",
       "tconst                                                                   \n",
       "tt0063540                        Sunghursh                   Sunghursh   \n",
       "tt0066787  One Day Before the Rainy Season             Ashad Ka Ek Din   \n",
       "tt0069049       The Other Side of the Wind  The Other Side of the Wind   \n",
       "tt0069204                  Sabse Bada Sukh             Sabse Bada Sukh   \n",
       "tt0100275         The Wandering Soap Opera       La Telenovela Errante   \n",
       "\n",
       "           start_year  runtime_minutes                genres  \n",
       "tconst                                                        \n",
       "tt0063540        2013            175.0    Action,Crime,Drama  \n",
       "tt0066787        2019            114.0       Biography,Drama  \n",
       "tt0069049        2018            122.0                 Drama  \n",
       "tt0069204        2018              NaN          Comedy,Drama  \n",
       "tt0100275        2017             80.0  Comedy,Drama,Fantasy  "
      ]
     },
     "execution_count": 9,
     "metadata": {},
     "output_type": "execute_result"
    }
   ],
   "source": [
    "imdb_title_basics.head()"
   ]
  },
  {
   "cell_type": "code",
   "execution_count": 10,
   "metadata": {
    "scrolled": true
   },
   "outputs": [
    {
     "name": "stdout",
     "output_type": "stream",
     "text": [
      "<class 'pandas.core.frame.DataFrame'>\n",
      "Index: 146144 entries, tt0063540 to tt9916754\n",
      "Data columns (total 5 columns):\n",
      "primary_title      146144 non-null object\n",
      "original_title     146123 non-null object\n",
      "start_year         146144 non-null int64\n",
      "runtime_minutes    114405 non-null float64\n",
      "genres             140736 non-null object\n",
      "dtypes: float64(1), int64(1), object(3)\n",
      "memory usage: 6.7+ MB\n",
      "None \n",
      "\n",
      " (146144, 5) \n",
      "\n",
      " Index(['primary_title', 'original_title', 'start_year', 'runtime_minutes',\n",
      "       'genres'],\n",
      "      dtype='object') \n",
      "\n",
      " primary_title          0\n",
      "original_title        21\n",
      "start_year             0\n",
      "runtime_minutes    31739\n",
      "genres              5408\n",
      "dtype: int64\n"
     ]
    }
   ],
   "source": [
    "#displaying summary data and attributes of the dataframe\n",
    "print(imdb_title_basics.info(), '\\n\\n',\n",
    "      imdb_title_basics.shape, '\\n\\n',\n",
    "      imdb_title_basics.columns, '\\n\\n',\n",
    "      imdb_title_basics.isna().sum())"
   ]
  },
  {
   "cell_type": "code",
   "execution_count": 11,
   "metadata": {
    "scrolled": true
   },
   "outputs": [
    {
     "name": "stdout",
     "output_type": "stream",
     "text": [
      "          start_year  runtime_minutes\n",
      "count  146144.000000    114405.000000\n",
      "mean     2014.621798        86.187247\n",
      "std         2.733583       166.360590\n",
      "min      2010.000000         1.000000\n",
      "25%      2012.000000        70.000000\n",
      "50%      2015.000000        87.000000\n",
      "75%      2017.000000        99.000000\n",
      "max      2115.000000     51420.000000 \n",
      "\n",
      "        primary_title original_title       genres\n",
      "count         146144         146123       140736\n",
      "unique        136071         137773         1085\n",
      "top             Home         Broken  Documentary\n",
      "freq              24             19        32185\n"
     ]
    }
   ],
   "source": [
    "#viewing summary statistics for the DF, numeric and non-numeric columns \n",
    "\n",
    "print(imdb_title_basics.describe(), '\\n\\n',\n",
    "      imdb_title_basics.describe(include = 'object'))"
   ]
  },
  {
   "cell_type": "markdown",
   "metadata": {},
   "source": [
    "Points to note:\n",
    "1. max value in 'start_year' column appears to be invalid - investigate\n",
    "2. the column we will be using is the 'genres' column - will need to decide how to deal with the missing data "
   ]
  },
  {
   "cell_type": "code",
   "execution_count": 12,
   "metadata": {
    "scrolled": false
   },
   "outputs": [
    {
     "data": {
      "text/plain": [
       "2115    0.000007\n",
       "2027    0.000007\n",
       "2026    0.000007\n",
       "2025    0.000007\n",
       "2024    0.000014\n",
       "2023    0.000034\n",
       "2022    0.000219\n",
       "2021    0.000568\n",
       "2020    0.006411\n",
       "2019    0.057334\n",
       "2018    0.115290\n",
       "2017    0.119772\n",
       "2016    0.118185\n",
       "2015    0.111144\n",
       "2014    0.106669\n",
       "2013    0.100647\n",
       "2012    0.094338\n",
       "2011    0.088269\n",
       "2010    0.081078\n",
       "Name: start_year, dtype: float64"
      ]
     },
     "execution_count": 12,
     "metadata": {},
     "output_type": "execute_result"
    }
   ],
   "source": [
    "#investigating the 'start_year' column \n",
    "start_year = imdb_title_basics['start_year']\n",
    "yr_perc = start_year.value_counts(normalize = True)\n",
    "yr_perc.sort_index(ascending = False)"
   ]
  },
  {
   "cell_type": "markdown",
   "metadata": {},
   "source": [
    " We assume that any data for movies with  *'start_year' after 2020* is invalid and due to error in data collection/entry."
   ]
  },
  {
   "cell_type": "code",
   "execution_count": 13,
   "metadata": {},
   "outputs": [
    {
     "data": {
      "text/plain": [
       "0.09"
      ]
     },
     "execution_count": 13,
     "metadata": {},
     "output_type": "execute_result"
    }
   ],
   "source": [
    "#filter to find % of dataset that has start_year after 2020 ie.% of 'bad data'\n",
    "filt = yr_perc.index > 2020\n",
    "yr_perc[filt].sum().round(4) * 100"
   ]
  },
  {
   "cell_type": "markdown",
   "metadata": {},
   "source": [
    "0.09% of the dataset is within this category. This is a very small proportion, so it is reasonable to remove these rows of data without heavily compromising data quantity."
   ]
  },
  {
   "cell_type": "code",
   "execution_count": 14,
   "metadata": {},
   "outputs": [
    {
     "data": {
      "text/html": [
       "<div>\n",
       "<style scoped>\n",
       "    .dataframe tbody tr th:only-of-type {\n",
       "        vertical-align: middle;\n",
       "    }\n",
       "\n",
       "    .dataframe tbody tr th {\n",
       "        vertical-align: top;\n",
       "    }\n",
       "\n",
       "    .dataframe thead th {\n",
       "        text-align: right;\n",
       "    }\n",
       "</style>\n",
       "<table border=\"1\" class=\"dataframe\">\n",
       "  <thead>\n",
       "    <tr style=\"text-align: right;\">\n",
       "      <th></th>\n",
       "      <th>primary_title</th>\n",
       "      <th>original_title</th>\n",
       "      <th>start_year</th>\n",
       "      <th>runtime_minutes</th>\n",
       "      <th>genres</th>\n",
       "    </tr>\n",
       "    <tr>\n",
       "      <th>tconst</th>\n",
       "      <th></th>\n",
       "      <th></th>\n",
       "      <th></th>\n",
       "      <th></th>\n",
       "      <th></th>\n",
       "    </tr>\n",
       "  </thead>\n",
       "  <tbody>\n",
       "    <tr>\n",
       "      <td>tt0063540</td>\n",
       "      <td>Sunghursh</td>\n",
       "      <td>Sunghursh</td>\n",
       "      <td>2013</td>\n",
       "      <td>175.0</td>\n",
       "      <td>Action,Crime,Drama</td>\n",
       "    </tr>\n",
       "    <tr>\n",
       "      <td>tt0066787</td>\n",
       "      <td>One Day Before the Rainy Season</td>\n",
       "      <td>Ashad Ka Ek Din</td>\n",
       "      <td>2019</td>\n",
       "      <td>114.0</td>\n",
       "      <td>Biography,Drama</td>\n",
       "    </tr>\n",
       "    <tr>\n",
       "      <td>tt0069049</td>\n",
       "      <td>The Other Side of the Wind</td>\n",
       "      <td>The Other Side of the Wind</td>\n",
       "      <td>2018</td>\n",
       "      <td>122.0</td>\n",
       "      <td>Drama</td>\n",
       "    </tr>\n",
       "    <tr>\n",
       "      <td>tt0069204</td>\n",
       "      <td>Sabse Bada Sukh</td>\n",
       "      <td>Sabse Bada Sukh</td>\n",
       "      <td>2018</td>\n",
       "      <td>NaN</td>\n",
       "      <td>Comedy,Drama</td>\n",
       "    </tr>\n",
       "    <tr>\n",
       "      <td>tt0100275</td>\n",
       "      <td>The Wandering Soap Opera</td>\n",
       "      <td>La Telenovela Errante</td>\n",
       "      <td>2017</td>\n",
       "      <td>80.0</td>\n",
       "      <td>Comedy,Drama,Fantasy</td>\n",
       "    </tr>\n",
       "  </tbody>\n",
       "</table>\n",
       "</div>"
      ],
      "text/plain": [
       "                             primary_title              original_title  \\\n",
       "tconst                                                                   \n",
       "tt0063540                        Sunghursh                   Sunghursh   \n",
       "tt0066787  One Day Before the Rainy Season             Ashad Ka Ek Din   \n",
       "tt0069049       The Other Side of the Wind  The Other Side of the Wind   \n",
       "tt0069204                  Sabse Bada Sukh             Sabse Bada Sukh   \n",
       "tt0100275         The Wandering Soap Opera       La Telenovela Errante   \n",
       "\n",
       "           start_year  runtime_minutes                genres  \n",
       "tconst                                                        \n",
       "tt0063540        2013            175.0    Action,Crime,Drama  \n",
       "tt0066787        2019            114.0       Biography,Drama  \n",
       "tt0069049        2018            122.0                 Drama  \n",
       "tt0069204        2018              NaN          Comedy,Drama  \n",
       "tt0100275        2017             80.0  Comedy,Drama,Fantasy  "
      ]
     },
     "execution_count": 14,
     "metadata": {},
     "output_type": "execute_result"
    }
   ],
   "source": [
    "#filter data using query to select rows where start_year 2020 or earlier\n",
    "imdb_title_basics_clean = imdb_title_basics.query('start_year < = 2020')\n",
    "imdb_title_basics_clean.head()"
   ]
  },
  {
   "cell_type": "code",
   "execution_count": 15,
   "metadata": {
    "scrolled": true
   },
   "outputs": [
    {
     "data": {
      "text/html": [
       "<div>\n",
       "<style scoped>\n",
       "    .dataframe tbody tr th:only-of-type {\n",
       "        vertical-align: middle;\n",
       "    }\n",
       "\n",
       "    .dataframe tbody tr th {\n",
       "        vertical-align: top;\n",
       "    }\n",
       "\n",
       "    .dataframe thead th {\n",
       "        text-align: right;\n",
       "    }\n",
       "</style>\n",
       "<table border=\"1\" class=\"dataframe\">\n",
       "  <thead>\n",
       "    <tr style=\"text-align: right;\">\n",
       "      <th></th>\n",
       "      <th>Genre1</th>\n",
       "      <th>Genre2</th>\n",
       "      <th>Genre3</th>\n",
       "    </tr>\n",
       "    <tr>\n",
       "      <th>tconst</th>\n",
       "      <th></th>\n",
       "      <th></th>\n",
       "      <th></th>\n",
       "    </tr>\n",
       "  </thead>\n",
       "  <tbody>\n",
       "    <tr>\n",
       "      <td>tt0063540</td>\n",
       "      <td>Action</td>\n",
       "      <td>Crime</td>\n",
       "      <td>Drama</td>\n",
       "    </tr>\n",
       "    <tr>\n",
       "      <td>tt0066787</td>\n",
       "      <td>Biography</td>\n",
       "      <td>Drama</td>\n",
       "      <td>None</td>\n",
       "    </tr>\n",
       "    <tr>\n",
       "      <td>tt0069049</td>\n",
       "      <td>Drama</td>\n",
       "      <td>None</td>\n",
       "      <td>None</td>\n",
       "    </tr>\n",
       "    <tr>\n",
       "      <td>tt0069204</td>\n",
       "      <td>Comedy</td>\n",
       "      <td>Drama</td>\n",
       "      <td>None</td>\n",
       "    </tr>\n",
       "    <tr>\n",
       "      <td>tt0100275</td>\n",
       "      <td>Comedy</td>\n",
       "      <td>Drama</td>\n",
       "      <td>Fantasy</td>\n",
       "    </tr>\n",
       "  </tbody>\n",
       "</table>\n",
       "</div>"
      ],
      "text/plain": [
       "              Genre1 Genre2   Genre3\n",
       "tconst                              \n",
       "tt0063540     Action  Crime    Drama\n",
       "tt0066787  Biography  Drama     None\n",
       "tt0069049      Drama   None     None\n",
       "tt0069204     Comedy  Drama     None\n",
       "tt0100275     Comedy  Drama  Fantasy"
      ]
     },
     "execution_count": 15,
     "metadata": {},
     "output_type": "execute_result"
    }
   ],
   "source": [
    "#cleaning the 'genres' column\n",
    "genres= imdb_title_basics_clean['genres'].str.split(\",\", expand= True)\n",
    "genres.rename(columns = {0:'Genre1', 1:'Genre2', 2:'Genre3'}, inplace=True)\n",
    "genres.head()"
   ]
  },
  {
   "cell_type": "code",
   "execution_count": 16,
   "metadata": {
    "scrolled": false
   },
   "outputs": [],
   "source": [
    "#drop rows that have < 1 non-missing value\n",
    "genres.dropna(thresh =1, inplace = True)  "
   ]
  },
  {
   "cell_type": "code",
   "execution_count": 17,
   "metadata": {
    "scrolled": false
   },
   "outputs": [
    {
     "name": "stdout",
     "output_type": "stream",
     "text": [
      "Genre1 is 100.0% populated\n",
      "Genre2 is 42.18% populated\n",
      "Genre3 is 20.9% populated\n"
     ]
    }
   ],
   "source": [
    "#loop to return % populated for each genre column\n",
    "for col in genres.columns:\n",
    "    perc_missing = genres[col].isna().mean() * 100\n",
    "    perc_populated = (100 - perc_missing).round(2)\n",
    "    print(f\"{col} is {perc_populated}% populated\")"
   ]
  },
  {
   "cell_type": "markdown",
   "metadata": {},
   "source": [
    "'Genre1' column is 100% populated so this confirms that rows with missing genre data have been removed. \n",
    "Also, 100% of movies in the dataset have been assigned to 1 genre, 42% to 2 genres, and only 21% have been assigned to 3 different genres. We will assume that the data collection process has been consistent and that this difference in number of genres assigned to each movie is a true reflection of the movie population. So all genre data provided will be included in our analysis."
   ]
  },
  {
   "cell_type": "code",
   "execution_count": 18,
   "metadata": {},
   "outputs": [
    {
     "data": {
      "text/html": [
       "<div>\n",
       "<style scoped>\n",
       "    .dataframe tbody tr th:only-of-type {\n",
       "        vertical-align: middle;\n",
       "    }\n",
       "\n",
       "    .dataframe tbody tr th {\n",
       "        vertical-align: top;\n",
       "    }\n",
       "\n",
       "    .dataframe thead th {\n",
       "        text-align: right;\n",
       "    }\n",
       "</style>\n",
       "<table border=\"1\" class=\"dataframe\">\n",
       "  <thead>\n",
       "    <tr style=\"text-align: right;\">\n",
       "      <th></th>\n",
       "      <th>averagerating</th>\n",
       "      <th>numvotes</th>\n",
       "    </tr>\n",
       "    <tr>\n",
       "      <th>tconst</th>\n",
       "      <th></th>\n",
       "      <th></th>\n",
       "    </tr>\n",
       "  </thead>\n",
       "  <tbody>\n",
       "    <tr>\n",
       "      <td>tt10356526</td>\n",
       "      <td>8.3</td>\n",
       "      <td>31</td>\n",
       "    </tr>\n",
       "    <tr>\n",
       "      <td>tt10384606</td>\n",
       "      <td>8.9</td>\n",
       "      <td>559</td>\n",
       "    </tr>\n",
       "    <tr>\n",
       "      <td>tt1042974</td>\n",
       "      <td>6.4</td>\n",
       "      <td>20</td>\n",
       "    </tr>\n",
       "    <tr>\n",
       "      <td>tt1043726</td>\n",
       "      <td>4.2</td>\n",
       "      <td>50352</td>\n",
       "    </tr>\n",
       "    <tr>\n",
       "      <td>tt1060240</td>\n",
       "      <td>6.5</td>\n",
       "      <td>21</td>\n",
       "    </tr>\n",
       "  </tbody>\n",
       "</table>\n",
       "</div>"
      ],
      "text/plain": [
       "            averagerating  numvotes\n",
       "tconst                             \n",
       "tt10356526            8.3        31\n",
       "tt10384606            8.9       559\n",
       "tt1042974             6.4        20\n",
       "tt1043726             4.2     50352\n",
       "tt1060240             6.5        21"
      ]
     },
     "execution_count": 18,
     "metadata": {},
     "output_type": "execute_result"
    }
   ],
   "source": [
    "imdb_title_ratings.head()"
   ]
  },
  {
   "cell_type": "code",
   "execution_count": 19,
   "metadata": {},
   "outputs": [
    {
     "name": "stdout",
     "output_type": "stream",
     "text": [
      "<class 'pandas.core.frame.DataFrame'>\n",
      "Index: 73856 entries, tt10356526 to tt9894098\n",
      "Data columns (total 2 columns):\n",
      "averagerating    73856 non-null float64\n",
      "numvotes         73856 non-null int64\n",
      "dtypes: float64(1), int64(1)\n",
      "memory usage: 1.7+ MB\n",
      "None \n",
      "\n",
      " (73856, 2) \n",
      "\n",
      " averagerating    0\n",
      "numvotes         0\n",
      "dtype: int64\n"
     ]
    }
   ],
   "source": [
    "#display summary data and attributes for the DF\n",
    "print(imdb_title_ratings.info(), '\\n\\n',\n",
    "      imdb_title_ratings.shape, '\\n\\n',\n",
    "      imdb_title_ratings.isna().sum())"
   ]
  },
  {
   "cell_type": "code",
   "execution_count": 20,
   "metadata": {},
   "outputs": [
    {
     "data": {
      "text/html": [
       "<div>\n",
       "<style scoped>\n",
       "    .dataframe tbody tr th:only-of-type {\n",
       "        vertical-align: middle;\n",
       "    }\n",
       "\n",
       "    .dataframe tbody tr th {\n",
       "        vertical-align: top;\n",
       "    }\n",
       "\n",
       "    .dataframe thead th {\n",
       "        text-align: right;\n",
       "    }\n",
       "</style>\n",
       "<table border=\"1\" class=\"dataframe\">\n",
       "  <thead>\n",
       "    <tr style=\"text-align: right;\">\n",
       "      <th></th>\n",
       "      <th>averagerating</th>\n",
       "      <th>numvotes</th>\n",
       "    </tr>\n",
       "  </thead>\n",
       "  <tbody>\n",
       "    <tr>\n",
       "      <td>count</td>\n",
       "      <td>73856.000000</td>\n",
       "      <td>7.385600e+04</td>\n",
       "    </tr>\n",
       "    <tr>\n",
       "      <td>mean</td>\n",
       "      <td>6.332729</td>\n",
       "      <td>3.523662e+03</td>\n",
       "    </tr>\n",
       "    <tr>\n",
       "      <td>std</td>\n",
       "      <td>1.474978</td>\n",
       "      <td>3.029402e+04</td>\n",
       "    </tr>\n",
       "    <tr>\n",
       "      <td>min</td>\n",
       "      <td>1.000000</td>\n",
       "      <td>5.000000e+00</td>\n",
       "    </tr>\n",
       "    <tr>\n",
       "      <td>25%</td>\n",
       "      <td>5.500000</td>\n",
       "      <td>1.400000e+01</td>\n",
       "    </tr>\n",
       "    <tr>\n",
       "      <td>50%</td>\n",
       "      <td>6.500000</td>\n",
       "      <td>4.900000e+01</td>\n",
       "    </tr>\n",
       "    <tr>\n",
       "      <td>75%</td>\n",
       "      <td>7.400000</td>\n",
       "      <td>2.820000e+02</td>\n",
       "    </tr>\n",
       "    <tr>\n",
       "      <td>max</td>\n",
       "      <td>10.000000</td>\n",
       "      <td>1.841066e+06</td>\n",
       "    </tr>\n",
       "  </tbody>\n",
       "</table>\n",
       "</div>"
      ],
      "text/plain": [
       "       averagerating      numvotes\n",
       "count   73856.000000  7.385600e+04\n",
       "mean        6.332729  3.523662e+03\n",
       "std         1.474978  3.029402e+04\n",
       "min         1.000000  5.000000e+00\n",
       "25%         5.500000  1.400000e+01\n",
       "50%         6.500000  4.900000e+01\n",
       "75%         7.400000  2.820000e+02\n",
       "max        10.000000  1.841066e+06"
      ]
     },
     "execution_count": 20,
     "metadata": {},
     "output_type": "execute_result"
    }
   ],
   "source": [
    "#summary stats for df\n",
    "imdb_title_ratings.describe()"
   ]
  },
  {
   "cell_type": "markdown",
   "metadata": {},
   "source": [
    "Points to Note:\n",
    "1. Confirm 'averagerating' is within 1-10 as expected. \n",
    "2. No missing values \n",
    "\n",
    "I am satisfied the 2 DFs can now be merged."
   ]
  },
  {
   "cell_type": "code",
   "execution_count": 21,
   "metadata": {},
   "outputs": [
    {
     "data": {
      "text/html": [
       "<div>\n",
       "<style scoped>\n",
       "    .dataframe tbody tr th:only-of-type {\n",
       "        vertical-align: middle;\n",
       "    }\n",
       "\n",
       "    .dataframe tbody tr th {\n",
       "        vertical-align: top;\n",
       "    }\n",
       "\n",
       "    .dataframe thead th {\n",
       "        text-align: right;\n",
       "    }\n",
       "</style>\n",
       "<table border=\"1\" class=\"dataframe\">\n",
       "  <thead>\n",
       "    <tr style=\"text-align: right;\">\n",
       "      <th></th>\n",
       "      <th>Genre1</th>\n",
       "      <th>Genre2</th>\n",
       "      <th>Genre3</th>\n",
       "      <th>averagerating</th>\n",
       "      <th>numvotes</th>\n",
       "    </tr>\n",
       "    <tr>\n",
       "      <th>tconst</th>\n",
       "      <th></th>\n",
       "      <th></th>\n",
       "      <th></th>\n",
       "      <th></th>\n",
       "      <th></th>\n",
       "    </tr>\n",
       "  </thead>\n",
       "  <tbody>\n",
       "    <tr>\n",
       "      <td>tt0063540</td>\n",
       "      <td>Action</td>\n",
       "      <td>Crime</td>\n",
       "      <td>Drama</td>\n",
       "      <td>7.0</td>\n",
       "      <td>77</td>\n",
       "    </tr>\n",
       "    <tr>\n",
       "      <td>tt0066787</td>\n",
       "      <td>Biography</td>\n",
       "      <td>Drama</td>\n",
       "      <td>None</td>\n",
       "      <td>7.2</td>\n",
       "      <td>43</td>\n",
       "    </tr>\n",
       "    <tr>\n",
       "      <td>tt0069049</td>\n",
       "      <td>Drama</td>\n",
       "      <td>None</td>\n",
       "      <td>None</td>\n",
       "      <td>6.9</td>\n",
       "      <td>4517</td>\n",
       "    </tr>\n",
       "    <tr>\n",
       "      <td>tt0069204</td>\n",
       "      <td>Comedy</td>\n",
       "      <td>Drama</td>\n",
       "      <td>None</td>\n",
       "      <td>6.1</td>\n",
       "      <td>13</td>\n",
       "    </tr>\n",
       "    <tr>\n",
       "      <td>tt0100275</td>\n",
       "      <td>Comedy</td>\n",
       "      <td>Drama</td>\n",
       "      <td>Fantasy</td>\n",
       "      <td>6.5</td>\n",
       "      <td>119</td>\n",
       "    </tr>\n",
       "    <tr>\n",
       "      <td>tt0112502</td>\n",
       "      <td>Horror</td>\n",
       "      <td>Thriller</td>\n",
       "      <td>None</td>\n",
       "      <td>4.1</td>\n",
       "      <td>32</td>\n",
       "    </tr>\n",
       "    <tr>\n",
       "      <td>tt0137204</td>\n",
       "      <td>Adventure</td>\n",
       "      <td>Animation</td>\n",
       "      <td>Comedy</td>\n",
       "      <td>8.1</td>\n",
       "      <td>263</td>\n",
       "    </tr>\n",
       "    <tr>\n",
       "      <td>tt0146592</td>\n",
       "      <td>Drama</td>\n",
       "      <td>None</td>\n",
       "      <td>None</td>\n",
       "      <td>6.8</td>\n",
       "      <td>451</td>\n",
       "    </tr>\n",
       "    <tr>\n",
       "      <td>tt0154039</td>\n",
       "      <td>History</td>\n",
       "      <td>None</td>\n",
       "      <td>None</td>\n",
       "      <td>4.6</td>\n",
       "      <td>64</td>\n",
       "    </tr>\n",
       "    <tr>\n",
       "      <td>tt0159369</td>\n",
       "      <td>Documentary</td>\n",
       "      <td>None</td>\n",
       "      <td>None</td>\n",
       "      <td>7.6</td>\n",
       "      <td>53</td>\n",
       "    </tr>\n",
       "  </tbody>\n",
       "</table>\n",
       "</div>"
      ],
      "text/plain": [
       "                Genre1     Genre2   Genre3  averagerating  numvotes\n",
       "tconst                                                             \n",
       "tt0063540       Action      Crime    Drama            7.0        77\n",
       "tt0066787    Biography      Drama     None            7.2        43\n",
       "tt0069049        Drama       None     None            6.9      4517\n",
       "tt0069204       Comedy      Drama     None            6.1        13\n",
       "tt0100275       Comedy      Drama  Fantasy            6.5       119\n",
       "tt0112502       Horror   Thriller     None            4.1        32\n",
       "tt0137204    Adventure  Animation   Comedy            8.1       263\n",
       "tt0146592        Drama       None     None            6.8       451\n",
       "tt0154039      History       None     None            4.6        64\n",
       "tt0159369  Documentary       None     None            7.6        53"
      ]
     },
     "execution_count": 21,
     "metadata": {},
     "output_type": "execute_result"
    }
   ],
   "source": [
    "#merging the 2 DFs on an inner join\n",
    "genres_rating= genres.merge(imdb_title_ratings, left_index= True, right_index= True)\n",
    "genres_rating.head(10)"
   ]
  },
  {
   "cell_type": "code",
   "execution_count": 22,
   "metadata": {
    "scrolled": true
   },
   "outputs": [
    {
     "name": "stdout",
     "output_type": "stream",
     "text": [
      "(73052, 5) True\n"
     ]
    }
   ],
   "source": [
    "#unique movie ID is 'tconst', checking for duplicates via unique index \n",
    "print(genres_rating.shape, \n",
    "      genres_rating.index.is_unique)"
   ]
  },
  {
   "cell_type": "markdown",
   "metadata": {},
   "source": [
    "The 'genres_rating' df needs to be restructured into a 'tidy' format (ie. each variable forms a column and each observation forms a row). <br> The variables are:\n",
    "1. Genre\n",
    "2. Average rating\n",
    "3. Number of votes"
   ]
  },
  {
   "cell_type": "code",
   "execution_count": 23,
   "metadata": {
    "scrolled": true
   },
   "outputs": [
    {
     "data": {
      "text/html": [
       "<div>\n",
       "<style scoped>\n",
       "    .dataframe tbody tr th:only-of-type {\n",
       "        vertical-align: middle;\n",
       "    }\n",
       "\n",
       "    .dataframe tbody tr th {\n",
       "        vertical-align: top;\n",
       "    }\n",
       "\n",
       "    .dataframe thead th {\n",
       "        text-align: right;\n",
       "    }\n",
       "</style>\n",
       "<table border=\"1\" class=\"dataframe\">\n",
       "  <thead>\n",
       "    <tr style=\"text-align: right;\">\n",
       "      <th></th>\n",
       "      <th>tconst</th>\n",
       "      <th>Genre</th>\n",
       "      <th>averagerating</th>\n",
       "      <th>numvotes</th>\n",
       "      <th>Genre_Num</th>\n",
       "    </tr>\n",
       "  </thead>\n",
       "  <tbody>\n",
       "    <tr>\n",
       "      <td>0</td>\n",
       "      <td>tt0063540</td>\n",
       "      <td>Action</td>\n",
       "      <td>7.0</td>\n",
       "      <td>77</td>\n",
       "      <td>Genre1</td>\n",
       "    </tr>\n",
       "    <tr>\n",
       "      <td>1</td>\n",
       "      <td>tt0066787</td>\n",
       "      <td>Biography</td>\n",
       "      <td>7.2</td>\n",
       "      <td>43</td>\n",
       "      <td>Genre1</td>\n",
       "    </tr>\n",
       "    <tr>\n",
       "      <td>2</td>\n",
       "      <td>tt0069049</td>\n",
       "      <td>Drama</td>\n",
       "      <td>6.9</td>\n",
       "      <td>4517</td>\n",
       "      <td>Genre1</td>\n",
       "    </tr>\n",
       "    <tr>\n",
       "      <td>3</td>\n",
       "      <td>tt0069204</td>\n",
       "      <td>Comedy</td>\n",
       "      <td>6.1</td>\n",
       "      <td>13</td>\n",
       "      <td>Genre1</td>\n",
       "    </tr>\n",
       "    <tr>\n",
       "      <td>4</td>\n",
       "      <td>tt0100275</td>\n",
       "      <td>Comedy</td>\n",
       "      <td>6.5</td>\n",
       "      <td>119</td>\n",
       "      <td>Genre1</td>\n",
       "    </tr>\n",
       "  </tbody>\n",
       "</table>\n",
       "</div>"
      ],
      "text/plain": [
       "      tconst      Genre  averagerating  numvotes Genre_Num\n",
       "0  tt0063540     Action            7.0        77    Genre1\n",
       "1  tt0066787  Biography            7.2        43    Genre1\n",
       "2  tt0069049      Drama            6.9      4517    Genre1\n",
       "3  tt0069204     Comedy            6.1        13    Genre1\n",
       "4  tt0100275     Comedy            6.5       119    Genre1"
      ]
     },
     "execution_count": 23,
     "metadata": {},
     "output_type": "execute_result"
    }
   ],
   "source": [
    "#transpose the genres into a single column\n",
    "genres_rating_melted = genres_rating.reset_index().melt(id_vars = ['averagerating', 'numvotes', 'tconst'], value_vars= ['Genre1', 'Genre2', 'Genre3'], var_name = 'Genre_Num', value_name= 'Genre') \n",
    "\n",
    "#rearranging column order so the DF is easier to follow\n",
    "genres_rating_melted = genres_rating_melted[['tconst', 'Genre', 'averagerating', 'numvotes', 'Genre_Num']]\n",
    "\n",
    "\n",
    "genres_rating_melted.head()\n"
   ]
  },
  {
   "cell_type": "markdown",
   "metadata": {},
   "source": [
    "As a result of melting the DF by genre, I am expecting to have a significant number of rows with missing data in the genre column ie. the movies that had < 3 assigned genres. I will remove these rows as these are redundant for  genre analysis."
   ]
  },
  {
   "cell_type": "code",
   "execution_count": 24,
   "metadata": {},
   "outputs": [
    {
     "data": {
      "text/plain": [
       "tconst               0\n",
       "Genre            90666\n",
       "averagerating        0\n",
       "numvotes             0\n",
       "Genre_Num            0\n",
       "dtype: int64"
      ]
     },
     "execution_count": 24,
     "metadata": {},
     "output_type": "execute_result"
    }
   ],
   "source": [
    "#checking for missing data\n",
    "genres_rating_melted.isna().sum()"
   ]
  },
  {
   "cell_type": "code",
   "execution_count": 25,
   "metadata": {
    "scrolled": false
   },
   "outputs": [
    {
     "data": {
      "text/html": [
       "<div>\n",
       "<style scoped>\n",
       "    .dataframe tbody tr th:only-of-type {\n",
       "        vertical-align: middle;\n",
       "    }\n",
       "\n",
       "    .dataframe tbody tr th {\n",
       "        vertical-align: top;\n",
       "    }\n",
       "\n",
       "    .dataframe thead th {\n",
       "        text-align: right;\n",
       "    }\n",
       "</style>\n",
       "<table border=\"1\" class=\"dataframe\">\n",
       "  <thead>\n",
       "    <tr style=\"text-align: right;\">\n",
       "      <th></th>\n",
       "      <th>tconst</th>\n",
       "      <th>Genre</th>\n",
       "      <th>averagerating</th>\n",
       "      <th>numvotes</th>\n",
       "      <th>Genre_Num</th>\n",
       "    </tr>\n",
       "  </thead>\n",
       "  <tbody>\n",
       "    <tr>\n",
       "      <td>0</td>\n",
       "      <td>tt0063540</td>\n",
       "      <td>Action</td>\n",
       "      <td>7.0</td>\n",
       "      <td>77</td>\n",
       "      <td>Genre1</td>\n",
       "    </tr>\n",
       "    <tr>\n",
       "      <td>1</td>\n",
       "      <td>tt0066787</td>\n",
       "      <td>Biography</td>\n",
       "      <td>7.2</td>\n",
       "      <td>43</td>\n",
       "      <td>Genre1</td>\n",
       "    </tr>\n",
       "    <tr>\n",
       "      <td>2</td>\n",
       "      <td>tt0069049</td>\n",
       "      <td>Drama</td>\n",
       "      <td>6.9</td>\n",
       "      <td>4517</td>\n",
       "      <td>Genre1</td>\n",
       "    </tr>\n",
       "    <tr>\n",
       "      <td>3</td>\n",
       "      <td>tt0069204</td>\n",
       "      <td>Comedy</td>\n",
       "      <td>6.1</td>\n",
       "      <td>13</td>\n",
       "      <td>Genre1</td>\n",
       "    </tr>\n",
       "    <tr>\n",
       "      <td>4</td>\n",
       "      <td>tt0100275</td>\n",
       "      <td>Comedy</td>\n",
       "      <td>6.5</td>\n",
       "      <td>119</td>\n",
       "      <td>Genre1</td>\n",
       "    </tr>\n",
       "  </tbody>\n",
       "</table>\n",
       "</div>"
      ],
      "text/plain": [
       "      tconst      Genre  averagerating  numvotes Genre_Num\n",
       "0  tt0063540     Action            7.0        77    Genre1\n",
       "1  tt0066787  Biography            7.2        43    Genre1\n",
       "2  tt0069049      Drama            6.9      4517    Genre1\n",
       "3  tt0069204     Comedy            6.1        13    Genre1\n",
       "4  tt0100275     Comedy            6.5       119    Genre1"
      ]
     },
     "execution_count": 25,
     "metadata": {},
     "output_type": "execute_result"
    }
   ],
   "source": [
    "#removing the missing data\n",
    "genres_rating_melted= genres_rating_melted.dropna()\n",
    "genres_rating_melted.head()"
   ]
  },
  {
   "cell_type": "markdown",
   "metadata": {},
   "source": [
    "There are 2 clear issues with the dataset:\n",
    "\n",
    "1. Is each genre equally represented? ie. do we have a similar number of row entries for each genre \n",
    "<br>\n",
    "\n",
    "2. There is significant inconsistency with the number of votes between movies. ie. The 'averagerating' measure has been derived from 1,841,066 votes for a particular entry, whilst only 5 votes for another. One method of dealing with this inconsistency is to calculate a weighted mean of the 'averagerating' measure, using the number of votes as the weighting.  "
   ]
  },
  {
   "cell_type": "code",
   "execution_count": 26,
   "metadata": {},
   "outputs": [
    {
     "data": {
      "text/plain": [
       "Drama          23.961\n",
       "Documentary    13.817\n",
       "Comedy         13.456\n",
       "Thriller        6.395\n",
       "Horror          5.972\n",
       "Action          5.439\n",
       "Romance         5.128\n",
       "Crime           3.589\n",
       "Adventure       2.971\n",
       "Biography       2.964\n",
       "Family          2.655\n",
       "Mystery         2.365\n",
       "History         2.199\n",
       "Sci-Fi          1.717\n",
       "Fantasy         1.655\n",
       "Music           1.532\n",
       "Animation       1.357\n",
       "Sport           0.918\n",
       "War             0.664\n",
       "Musical         0.561\n",
       "News            0.451\n",
       "Western         0.218\n",
       "Reality-TV      0.013\n",
       "Adult           0.002\n",
       "Game-Show       0.002\n",
       "Short           0.001\n",
       "Name: Genre, dtype: float64"
      ]
     },
     "execution_count": 26,
     "metadata": {},
     "output_type": "execute_result"
    }
   ],
   "source": [
    "#proportion of each genre in the resulting DF\n",
    "genre_perc= genres_rating_melted['Genre'].value_counts(normalize= True).round(5) * 100\n",
    "genre_perc"
   ]
  },
  {
   "cell_type": "markdown",
   "metadata": {},
   "source": [
    "Each genre is **not** equally represented in this dataset. Genres with a count proportion < 0.2% of the dataset will be removed. This could be indicative of low popularity of these genres and therefore these genres do not make up a significant proportion of the movies population. There is insufficient data related to these genres and I cannot reach reliable insights for Microsoft from very small sample sizes. These genres will be eliminated."
   ]
  },
  {
   "cell_type": "code",
   "execution_count": 27,
   "metadata": {},
   "outputs": [
    {
     "name": "stdout",
     "output_type": "stream",
     "text": [
      "['Reality-TV', 'Adult', 'Game-Show', 'Short']\n"
     ]
    },
    {
     "data": {
      "text/plain": [
       "True"
      ]
     },
     "execution_count": 27,
     "metadata": {},
     "output_type": "execute_result"
    }
   ],
   "source": [
    "genres_to_remove = []\n",
    "\n",
    "#function to iterate through the genre proportions and return a list of which ones need to be eliminated\n",
    "def remove_genres(series, min_prop):\n",
    "    for i in series.index:\n",
    "        value = series[i]\n",
    "        if value < min_prop:\n",
    "            genres_to_remove.append(i)\n",
    "        else:\n",
    "            pass\n",
    "    return genres_to_remove\n",
    "\n",
    "remove_genres(genre_perc, .2)\n",
    "\n",
    "print(genres_to_remove)\n",
    "\n",
    "\n",
    "#re-selecting the dataframe to exclude these genres\n",
    "filt = genres_rating_melted['Genre'].isin(genres_to_remove)\n",
    "genres_rating_removed = genres_rating_melted[~filt]\n",
    "\n",
    "#checking the correct number of genres have been removed\n",
    "genres_rating_melted['Genre'].nunique() - genres_rating_removed['Genre'].nunique() == len(genres_to_remove)"
   ]
  },
  {
   "cell_type": "code",
   "execution_count": 28,
   "metadata": {
    "scrolled": false
   },
   "outputs": [
    {
     "data": {
      "text/html": [
       "<div>\n",
       "<style scoped>\n",
       "    .dataframe tbody tr th:only-of-type {\n",
       "        vertical-align: middle;\n",
       "    }\n",
       "\n",
       "    .dataframe tbody tr th {\n",
       "        vertical-align: top;\n",
       "    }\n",
       "\n",
       "    .dataframe thead th {\n",
       "        text-align: right;\n",
       "    }\n",
       "</style>\n",
       "<table border=\"1\" class=\"dataframe\">\n",
       "  <thead>\n",
       "    <tr style=\"text-align: right;\">\n",
       "      <th></th>\n",
       "      <th>Genre</th>\n",
       "      <th>Weighted_AvgRating</th>\n",
       "    </tr>\n",
       "  </thead>\n",
       "  <tbody>\n",
       "    <tr>\n",
       "      <td>15</td>\n",
       "      <td>News</td>\n",
       "      <td>7.640</td>\n",
       "    </tr>\n",
       "    <tr>\n",
       "      <td>21</td>\n",
       "      <td>Western</td>\n",
       "      <td>7.519</td>\n",
       "    </tr>\n",
       "    <tr>\n",
       "      <td>3</td>\n",
       "      <td>Biography</td>\n",
       "      <td>7.475</td>\n",
       "    </tr>\n",
       "    <tr>\n",
       "      <td>10</td>\n",
       "      <td>History</td>\n",
       "      <td>7.358</td>\n",
       "    </tr>\n",
       "    <tr>\n",
       "      <td>6</td>\n",
       "      <td>Documentary</td>\n",
       "      <td>7.298</td>\n",
       "    </tr>\n",
       "    <tr>\n",
       "      <td>18</td>\n",
       "      <td>Sport</td>\n",
       "      <td>7.290</td>\n",
       "    </tr>\n",
       "    <tr>\n",
       "      <td>2</td>\n",
       "      <td>Animation</td>\n",
       "      <td>7.265</td>\n",
       "    </tr>\n",
       "    <tr>\n",
       "      <td>12</td>\n",
       "      <td>Music</td>\n",
       "      <td>7.131</td>\n",
       "    </tr>\n",
       "    <tr>\n",
       "      <td>17</td>\n",
       "      <td>Sci-Fi</td>\n",
       "      <td>7.121</td>\n",
       "    </tr>\n",
       "    <tr>\n",
       "      <td>20</td>\n",
       "      <td>War</td>\n",
       "      <td>7.084</td>\n",
       "    </tr>\n",
       "    <tr>\n",
       "      <td>7</td>\n",
       "      <td>Drama</td>\n",
       "      <td>7.066</td>\n",
       "    </tr>\n",
       "    <tr>\n",
       "      <td>13</td>\n",
       "      <td>Musical</td>\n",
       "      <td>7.064</td>\n",
       "    </tr>\n",
       "    <tr>\n",
       "      <td>1</td>\n",
       "      <td>Adventure</td>\n",
       "      <td>7.055</td>\n",
       "    </tr>\n",
       "    <tr>\n",
       "      <td>0</td>\n",
       "      <td>Action</td>\n",
       "      <td>6.887</td>\n",
       "    </tr>\n",
       "    <tr>\n",
       "      <td>5</td>\n",
       "      <td>Crime</td>\n",
       "      <td>6.872</td>\n",
       "    </tr>\n",
       "    <tr>\n",
       "      <td>14</td>\n",
       "      <td>Mystery</td>\n",
       "      <td>6.862</td>\n",
       "    </tr>\n",
       "    <tr>\n",
       "      <td>19</td>\n",
       "      <td>Thriller</td>\n",
       "      <td>6.760</td>\n",
       "    </tr>\n",
       "    <tr>\n",
       "      <td>8</td>\n",
       "      <td>Family</td>\n",
       "      <td>6.740</td>\n",
       "    </tr>\n",
       "    <tr>\n",
       "      <td>4</td>\n",
       "      <td>Comedy</td>\n",
       "      <td>6.723</td>\n",
       "    </tr>\n",
       "    <tr>\n",
       "      <td>9</td>\n",
       "      <td>Fantasy</td>\n",
       "      <td>6.687</td>\n",
       "    </tr>\n",
       "    <tr>\n",
       "      <td>16</td>\n",
       "      <td>Romance</td>\n",
       "      <td>6.671</td>\n",
       "    </tr>\n",
       "    <tr>\n",
       "      <td>11</td>\n",
       "      <td>Horror</td>\n",
       "      <td>6.128</td>\n",
       "    </tr>\n",
       "  </tbody>\n",
       "</table>\n",
       "</div>"
      ],
      "text/plain": [
       "          Genre  Weighted_AvgRating\n",
       "15         News               7.640\n",
       "21      Western               7.519\n",
       "3     Biography               7.475\n",
       "10      History               7.358\n",
       "6   Documentary               7.298\n",
       "18        Sport               7.290\n",
       "2     Animation               7.265\n",
       "12        Music               7.131\n",
       "17       Sci-Fi               7.121\n",
       "20          War               7.084\n",
       "7         Drama               7.066\n",
       "13      Musical               7.064\n",
       "1     Adventure               7.055\n",
       "0        Action               6.887\n",
       "5         Crime               6.872\n",
       "14      Mystery               6.862\n",
       "19     Thriller               6.760\n",
       "8        Family               6.740\n",
       "4        Comedy               6.723\n",
       "9       Fantasy               6.687\n",
       "16      Romance               6.671\n",
       "11       Horror               6.128"
      ]
     },
     "execution_count": 28,
     "metadata": {},
     "output_type": "execute_result"
    }
   ],
   "source": [
    "#grouping by genre and applying a weighted average function\n",
    "rating_weighted_average = genres_rating_removed.groupby(\"Genre\").apply(lambda x: np.average(x['averagerating'], weights=x['numvotes'])).reset_index()\n",
    "rating_weighted_average.columns = ['Genre', 'Weighted_AvgRating']\n",
    "rating_weighted_average= rating_weighted_average.round(3).sort_values('Weighted_AvgRating', ascending=False)\n",
    "rating_weighted_average"
   ]
  },
  {
   "cell_type": "code",
   "execution_count": 31,
   "metadata": {},
   "outputs": [
    {
     "data": {
      "image/png": "[encoded data removed]",
      "text/plain": [
       "<Figure size 864x1008 with 1 Axes>"
      ]
     },
     "metadata": {},
     "output_type": "display_data"
    }
   ],
   "source": [
    "#plotting the rating_weighted_average per genre, annotating the top and worst rated genres\n",
    "ax = rating_weighted_average.plot('Genre', 'Weighted_AvgRating', kind='barh', figsize=(12,14), legend=None);\n",
    "ax.set_title('Average rating for movie Genres');\n",
    "ax.annotate('Highest rated genre:\"News\", averagerating = 7.6', xy=(7.7, 0.2), xytext=(8.5,5), arrowprops={'color':'green', 'arrowstyle':'fancy'}, size=12);\n",
    "ax.annotate('Lowest rated genre:\"Horror\", averagerating=6.1', xy=(6.1, 21), xytext=(8.5,18), arrowprops={'color': 'red', 'arrowstyle':'fancy'},  size=12);\n"
   ]
  },
  {
   "cell_type": "markdown",
   "metadata": {},
   "source": [
    "However, the above analysis and barchart does not account for or represent the difference in the number of data points per genre.\n",
    "In order to display this more accurately, I will use the 'averagerating' measure as provided in the dataset, group by genre and exploit Seaborn's capabilities to visually represent the difference in the number of votes."
   ]
  },
  {
   "cell_type": "code",
   "execution_count": 33,
   "metadata": {
    "scrolled": false
   },
   "outputs": [
    {
     "data": {
      "image/png": "[encoded data removed]",
      "text/plain": [
       "<Figure size 733.03x576 with 1 Axes>"
      ]
     },
     "metadata": {},
     "output_type": "display_data"
    }
   ],
   "source": [
    "#plotting averagerating grouped by genre, where point size represents number of votes \n",
    "#using a sample of DF to not overwhelm the plot, grouping by Genre first to ensure sampling of all genres\n",
    "genres_rating_melted_sample = genres_rating_removed.groupby('Genre').apply(lambda x: x.sample(frac=0.02)).set_index('tconst')\n",
    "\n",
    "plot=sns.relplot(x=\"Genre\", y=\"averagerating\", size=\"numvotes\",\n",
    "            sizes=(50, 500), alpha=.4, palette=\"muted\",height=8, data=genres_rating_melted_sample, legend='brief');\n",
    "sns.set_style('whitegrid'); \n",
    "sns.set_context(\"talk\", font_scale=1.2);\n",
    "plot.set_xticklabels(rotation=90).set(xlabel='Genre', ylabel='Average Rating', title='Average Rating for movie Genres');\n"
   ]
  },
  {
   "cell_type": "markdown",
   "metadata": {},
   "source": [
    "### Results & Action\n",
    "\n",
    "*bonus combination = average rating (8-10) with a significant number of votes* <br>\n",
    "\n",
    "The top 3 rated genres that Microsoft should consider debuting in are:\n",
    "\n",
    "1. **'Drama'**: high rating for high proportion of movies, including a bonus combination\n",
    "2. **'Documentary'** : this genre has highest frequency of top rated movies (but no bonus combo observed)\n",
    "3. **'Thriller'**: a bonus combination plus proportionately high number of high rated movies\n"
   ]
  },
  {
   "cell_type": "markdown",
   "metadata": {},
   "source": [
    "## Q2 - What is the average movie run-time for different production budgets?"
   ]
  },
  {
   "cell_type": "code",
   "execution_count": 69,
   "metadata": {},
   "outputs": [],
   "source": [
    "#The DFs required for this analysis\n",
    "tn_movie_budgets = data_dict['tn_movie_budgets']\n",
    "imdb_title_basics = data_dict['imdb_title_basics']"
   ]
  },
  {
   "cell_type": "code",
   "execution_count": 70,
   "metadata": {},
   "outputs": [
    {
     "data": {
      "text/html": [
       "<div>\n",
       "<style scoped>\n",
       "    .dataframe tbody tr th:only-of-type {\n",
       "        vertical-align: middle;\n",
       "    }\n",
       "\n",
       "    .dataframe tbody tr th {\n",
       "        vertical-align: top;\n",
       "    }\n",
       "\n",
       "    .dataframe thead th {\n",
       "        text-align: right;\n",
       "    }\n",
       "</style>\n",
       "<table border=\"1\" class=\"dataframe\">\n",
       "  <thead>\n",
       "    <tr style=\"text-align: right;\">\n",
       "      <th></th>\n",
       "      <th>release_date</th>\n",
       "      <th>movie</th>\n",
       "      <th>production_budget</th>\n",
       "      <th>domestic_gross</th>\n",
       "      <th>worldwide_gross</th>\n",
       "    </tr>\n",
       "    <tr>\n",
       "      <th>id</th>\n",
       "      <th></th>\n",
       "      <th></th>\n",
       "      <th></th>\n",
       "      <th></th>\n",
       "      <th></th>\n",
       "    </tr>\n",
       "  </thead>\n",
       "  <tbody>\n",
       "    <tr>\n",
       "      <td>1</td>\n",
       "      <td>Dec 18, 2009</td>\n",
       "      <td>Avatar</td>\n",
       "      <td>$425,000,000</td>\n",
       "      <td>$760,507,625</td>\n",
       "      <td>$2,776,345,279</td>\n",
       "    </tr>\n",
       "    <tr>\n",
       "      <td>2</td>\n",
       "      <td>May 20, 2011</td>\n",
       "      <td>Pirates of the Caribbean: On Stranger Tides</td>\n",
       "      <td>$410,600,000</td>\n",
       "      <td>$241,063,875</td>\n",
       "      <td>$1,045,663,875</td>\n",
       "    </tr>\n",
       "    <tr>\n",
       "      <td>3</td>\n",
       "      <td>Jun 7, 2019</td>\n",
       "      <td>Dark Phoenix</td>\n",
       "      <td>$350,000,000</td>\n",
       "      <td>$42,762,350</td>\n",
       "      <td>$149,762,350</td>\n",
       "    </tr>\n",
       "    <tr>\n",
       "      <td>4</td>\n",
       "      <td>May 1, 2015</td>\n",
       "      <td>Avengers: Age of Ultron</td>\n",
       "      <td>$330,600,000</td>\n",
       "      <td>$459,005,868</td>\n",
       "      <td>$1,403,013,963</td>\n",
       "    </tr>\n",
       "    <tr>\n",
       "      <td>5</td>\n",
       "      <td>Dec 15, 2017</td>\n",
       "      <td>Star Wars Ep. VIII: The Last Jedi</td>\n",
       "      <td>$317,000,000</td>\n",
       "      <td>$620,181,382</td>\n",
       "      <td>$1,316,721,747</td>\n",
       "    </tr>\n",
       "  </tbody>\n",
       "</table>\n",
       "</div>"
      ],
      "text/plain": [
       "    release_date                                        movie  \\\n",
       "id                                                              \n",
       "1   Dec 18, 2009                                       Avatar   \n",
       "2   May 20, 2011  Pirates of the Caribbean: On Stranger Tides   \n",
       "3    Jun 7, 2019                                 Dark Phoenix   \n",
       "4    May 1, 2015                      Avengers: Age of Ultron   \n",
       "5   Dec 15, 2017            Star Wars Ep. VIII: The Last Jedi   \n",
       "\n",
       "   production_budget domestic_gross worldwide_gross  \n",
       "id                                                   \n",
       "1       $425,000,000   $760,507,625  $2,776,345,279  \n",
       "2       $410,600,000   $241,063,875  $1,045,663,875  \n",
       "3       $350,000,000    $42,762,350    $149,762,350  \n",
       "4       $330,600,000   $459,005,868  $1,403,013,963  \n",
       "5       $317,000,000   $620,181,382  $1,316,721,747  "
      ]
     },
     "execution_count": 70,
     "metadata": {},
     "output_type": "execute_result"
    }
   ],
   "source": [
    "tn_movie_budgets.head()"
   ]
  },
  {
   "cell_type": "code",
   "execution_count": 71,
   "metadata": {
    "scrolled": false
   },
   "outputs": [
    {
     "name": "stdout",
     "output_type": "stream",
     "text": [
      "<class 'pandas.core.frame.DataFrame'>\n",
      "Int64Index: 5782 entries, 1 to 82\n",
      "Data columns (total 5 columns):\n",
      "release_date         5782 non-null object\n",
      "movie                5782 non-null object\n",
      "production_budget    5782 non-null object\n",
      "domestic_gross       5782 non-null object\n",
      "worldwide_gross      5782 non-null object\n",
      "dtypes: object(5)\n",
      "memory usage: 271.0+ KB\n",
      "None \n",
      "\n",
      " (5782, 5) \n",
      "\n",
      " Index(['release_date', 'movie', 'production_budget', 'domestic_gross',\n",
      "       'worldwide_gross'],\n",
      "      dtype='object') \n",
      "\n",
      " release_date         0\n",
      "movie                0\n",
      "production_budget    0\n",
      "domestic_gross       0\n",
      "worldwide_gross      0\n",
      "dtype: int64\n"
     ]
    }
   ],
   "source": [
    "#summary data for the DF\n",
    "print(tn_movie_budgets.info(),'\\n\\n',\n",
    "      tn_movie_budgets.shape, '\\n\\n',\n",
    "      tn_movie_budgets.columns, '\\n\\n',\n",
    "      tn_movie_budgets.isna().sum())"
   ]
  },
  {
   "cell_type": "markdown",
   "metadata": {},
   "source": [
    "Points to Note:\n",
    "1. No missing values to deal with \n",
    "2. 'Release_date' col needs to be converted to datetime object\n",
    "3. Index - check and set to be unique \n",
    "4. Drop unnecessary columns: 'domestic_gross', 'worldwide_gross'"
   ]
  },
  {
   "cell_type": "code",
   "execution_count": 72,
   "metadata": {
    "scrolled": false
   },
   "outputs": [
    {
     "data": {
      "text/plain": [
       "False"
      ]
     },
     "execution_count": 72,
     "metadata": {},
     "output_type": "execute_result"
    }
   ],
   "source": [
    "#changing datatype of 'release_date' col to datetime and extracting the year element only \n",
    "tn_movie_budgets['release_date']=pd.to_datetime(tn_movie_budgets['release_date'], errors ='coerce').dt.year\n",
    "tn_movie_budgets['release_date'].isna().any()\n"
   ]
  },
  {
   "cell_type": "code",
   "execution_count": 73,
   "metadata": {},
   "outputs": [
    {
     "data": {
      "text/html": [
       "<div>\n",
       "<style scoped>\n",
       "    .dataframe tbody tr th:only-of-type {\n",
       "        vertical-align: middle;\n",
       "    }\n",
       "\n",
       "    .dataframe tbody tr th {\n",
       "        vertical-align: top;\n",
       "    }\n",
       "\n",
       "    .dataframe thead th {\n",
       "        text-align: right;\n",
       "    }\n",
       "</style>\n",
       "<table border=\"1\" class=\"dataframe\">\n",
       "  <thead>\n",
       "    <tr style=\"text-align: right;\">\n",
       "      <th></th>\n",
       "      <th>release_date</th>\n",
       "      <th>movie</th>\n",
       "      <th>production_budget</th>\n",
       "    </tr>\n",
       "    <tr>\n",
       "      <th>id</th>\n",
       "      <th></th>\n",
       "      <th></th>\n",
       "      <th></th>\n",
       "    </tr>\n",
       "  </thead>\n",
       "  <tbody>\n",
       "    <tr>\n",
       "      <td>1</td>\n",
       "      <td>2009</td>\n",
       "      <td>Avatar</td>\n",
       "      <td>425000000</td>\n",
       "    </tr>\n",
       "    <tr>\n",
       "      <td>2</td>\n",
       "      <td>2011</td>\n",
       "      <td>Pirates of the Caribbean: On Stranger Tides</td>\n",
       "      <td>410600000</td>\n",
       "    </tr>\n",
       "    <tr>\n",
       "      <td>3</td>\n",
       "      <td>2019</td>\n",
       "      <td>Dark Phoenix</td>\n",
       "      <td>350000000</td>\n",
       "    </tr>\n",
       "    <tr>\n",
       "      <td>4</td>\n",
       "      <td>2015</td>\n",
       "      <td>Avengers: Age of Ultron</td>\n",
       "      <td>330600000</td>\n",
       "    </tr>\n",
       "    <tr>\n",
       "      <td>5</td>\n",
       "      <td>2017</td>\n",
       "      <td>Star Wars Ep. VIII: The Last Jedi</td>\n",
       "      <td>317000000</td>\n",
       "    </tr>\n",
       "  </tbody>\n",
       "</table>\n",
       "</div>"
      ],
      "text/plain": [
       "    release_date                                        movie  \\\n",
       "id                                                              \n",
       "1           2009                                       Avatar   \n",
       "2           2011  Pirates of the Caribbean: On Stranger Tides   \n",
       "3           2019                                 Dark Phoenix   \n",
       "4           2015                      Avengers: Age of Ultron   \n",
       "5           2017            Star Wars Ep. VIII: The Last Jedi   \n",
       "\n",
       "    production_budget  \n",
       "id                     \n",
       "1           425000000  \n",
       "2           410600000  \n",
       "3           350000000  \n",
       "4           330600000  \n",
       "5           317000000  "
      ]
     },
     "execution_count": 73,
     "metadata": {},
     "output_type": "execute_result"
    }
   ],
   "source": [
    "#changing the datatype of 'production_budget' to integer as will be using this to column to return summary stats \n",
    "tn_movie_budgets['production_budget'] = tn_movie_budgets['production_budget'].str.lstrip('$').str.replace(',', '').astype('int')\n",
    "tn_movie_budgets= tn_movie_budgets.drop(axis=1, columns =['domestic_gross', 'worldwide_gross'])\n",
    "tn_movie_budgets.head()\n"
   ]
  },
  {
   "cell_type": "code",
   "execution_count": 74,
   "metadata": {
    "scrolled": true
   },
   "outputs": [
    {
     "data": {
      "text/plain": [
       "2"
      ]
     },
     "execution_count": 74,
     "metadata": {},
     "output_type": "execute_result"
    }
   ],
   "source": [
    "#checking for duplicates using a combination of 'release_date' and 'movie' title to identify a unique entry\n",
    "#return number of duplicate movies(keep=false marks all duplicates as true)\n",
    "tn_movie_budgets.duplicated(subset = ['release_date', 'movie'], keep=False).sum()"
   ]
  },
  {
   "cell_type": "markdown",
   "metadata": {},
   "source": [
    "There are 2 duplicate rows in the dataset, so 1 will need to be dropped."
   ]
  },
  {
   "cell_type": "code",
   "execution_count": 75,
   "metadata": {
    "scrolled": true
   },
   "outputs": [
    {
     "name": "stdout",
     "output_type": "stream",
     "text": [
      "5782 5781\n"
     ]
    }
   ],
   "source": [
    "#dropping the duplicate row\n",
    "tn_movie_budgets_cleaned= tn_movie_budgets.drop_duplicates(subset = ['release_date', 'movie'])\n",
    "\n",
    "#checking the length of cleaned df has reduced by 1 as expected\n",
    "print(len(tn_movie_budgets),\n",
    "      len(tn_movie_budgets_cleaned))"
   ]
  },
  {
   "cell_type": "code",
   "execution_count": 76,
   "metadata": {},
   "outputs": [],
   "source": [
    "#function to check for unique index in DF, and reset if not unique\n",
    "def set_unique_index(df):\n",
    "    unique_test= df.index.is_unique\n",
    "    if unique_test == False:\n",
    "        df.reset_index(drop = True, inplace= True)\n",
    "        print('The index has been reset')\n",
    "    else:\n",
    "        print('The current index is unique so has not been reset')\n",
    "    return df.head()"
   ]
  },
  {
   "cell_type": "code",
   "execution_count": 77,
   "metadata": {
    "scrolled": false
   },
   "outputs": [
    {
     "name": "stdout",
     "output_type": "stream",
     "text": [
      "The index has been reset\n"
     ]
    },
    {
     "data": {
      "text/html": [
       "<div>\n",
       "<style scoped>\n",
       "    .dataframe tbody tr th:only-of-type {\n",
       "        vertical-align: middle;\n",
       "    }\n",
       "\n",
       "    .dataframe tbody tr th {\n",
       "        vertical-align: top;\n",
       "    }\n",
       "\n",
       "    .dataframe thead th {\n",
       "        text-align: right;\n",
       "    }\n",
       "</style>\n",
       "<table border=\"1\" class=\"dataframe\">\n",
       "  <thead>\n",
       "    <tr style=\"text-align: right;\">\n",
       "      <th></th>\n",
       "      <th>release_date</th>\n",
       "      <th>movie</th>\n",
       "      <th>production_budget</th>\n",
       "    </tr>\n",
       "  </thead>\n",
       "  <tbody>\n",
       "    <tr>\n",
       "      <td>0</td>\n",
       "      <td>2009</td>\n",
       "      <td>Avatar</td>\n",
       "      <td>425000000</td>\n",
       "    </tr>\n",
       "    <tr>\n",
       "      <td>1</td>\n",
       "      <td>2011</td>\n",
       "      <td>Pirates of the Caribbean: On Stranger Tides</td>\n",
       "      <td>410600000</td>\n",
       "    </tr>\n",
       "    <tr>\n",
       "      <td>2</td>\n",
       "      <td>2019</td>\n",
       "      <td>Dark Phoenix</td>\n",
       "      <td>350000000</td>\n",
       "    </tr>\n",
       "    <tr>\n",
       "      <td>3</td>\n",
       "      <td>2015</td>\n",
       "      <td>Avengers: Age of Ultron</td>\n",
       "      <td>330600000</td>\n",
       "    </tr>\n",
       "    <tr>\n",
       "      <td>4</td>\n",
       "      <td>2017</td>\n",
       "      <td>Star Wars Ep. VIII: The Last Jedi</td>\n",
       "      <td>317000000</td>\n",
       "    </tr>\n",
       "  </tbody>\n",
       "</table>\n",
       "</div>"
      ],
      "text/plain": [
       "   release_date                                        movie  \\\n",
       "0          2009                                       Avatar   \n",
       "1          2011  Pirates of the Caribbean: On Stranger Tides   \n",
       "2          2019                                 Dark Phoenix   \n",
       "3          2015                      Avengers: Age of Ultron   \n",
       "4          2017            Star Wars Ep. VIII: The Last Jedi   \n",
       "\n",
       "   production_budget  \n",
       "0          425000000  \n",
       "1          410600000  \n",
       "2          350000000  \n",
       "3          330600000  \n",
       "4          317000000  "
      ]
     },
     "execution_count": 77,
     "metadata": {},
     "output_type": "execute_result"
    }
   ],
   "source": [
    "set_unique_index(tn_movie_budgets_cleaned)"
   ]
  },
  {
   "cell_type": "code",
   "execution_count": 78,
   "metadata": {
    "scrolled": false
   },
   "outputs": [
    {
     "data": {
      "text/html": [
       "<div>\n",
       "<style scoped>\n",
       "    .dataframe tbody tr th:only-of-type {\n",
       "        vertical-align: middle;\n",
       "    }\n",
       "\n",
       "    .dataframe tbody tr th {\n",
       "        vertical-align: top;\n",
       "    }\n",
       "\n",
       "    .dataframe thead th {\n",
       "        text-align: right;\n",
       "    }\n",
       "</style>\n",
       "<table border=\"1\" class=\"dataframe\">\n",
       "  <thead>\n",
       "    <tr style=\"text-align: right;\">\n",
       "      <th></th>\n",
       "      <th>release_date</th>\n",
       "      <th>production_budget</th>\n",
       "    </tr>\n",
       "  </thead>\n",
       "  <tbody>\n",
       "    <tr>\n",
       "      <td>count</td>\n",
       "      <td>5781.000000</td>\n",
       "      <td>5.781000e+03</td>\n",
       "    </tr>\n",
       "    <tr>\n",
       "      <td>mean</td>\n",
       "      <td>2003.966269</td>\n",
       "      <td>3.159313e+07</td>\n",
       "    </tr>\n",
       "    <tr>\n",
       "      <td>std</td>\n",
       "      <td>12.725315</td>\n",
       "      <td>4.181369e+07</td>\n",
       "    </tr>\n",
       "    <tr>\n",
       "      <td>min</td>\n",
       "      <td>1915.000000</td>\n",
       "      <td>1.100000e+03</td>\n",
       "    </tr>\n",
       "    <tr>\n",
       "      <td>25%</td>\n",
       "      <td>2000.000000</td>\n",
       "      <td>5.000000e+06</td>\n",
       "    </tr>\n",
       "    <tr>\n",
       "      <td>50%</td>\n",
       "      <td>2007.000000</td>\n",
       "      <td>1.700000e+07</td>\n",
       "    </tr>\n",
       "    <tr>\n",
       "      <td>75%</td>\n",
       "      <td>2012.000000</td>\n",
       "      <td>4.000000e+07</td>\n",
       "    </tr>\n",
       "    <tr>\n",
       "      <td>max</td>\n",
       "      <td>2020.000000</td>\n",
       "      <td>4.250000e+08</td>\n",
       "    </tr>\n",
       "  </tbody>\n",
       "</table>\n",
       "</div>"
      ],
      "text/plain": [
       "       release_date  production_budget\n",
       "count   5781.000000       5.781000e+03\n",
       "mean    2003.966269       3.159313e+07\n",
       "std       12.725315       4.181369e+07\n",
       "min     1915.000000       1.100000e+03\n",
       "25%     2000.000000       5.000000e+06\n",
       "50%     2007.000000       1.700000e+07\n",
       "75%     2012.000000       4.000000e+07\n",
       "max     2020.000000       4.250000e+08"
      ]
     },
     "execution_count": 78,
     "metadata": {},
     "output_type": "execute_result"
    }
   ],
   "source": [
    "tn_movie_budgets_cleaned.describe()"
   ]
  },
  {
   "cell_type": "code",
   "execution_count": 142,
   "metadata": {},
   "outputs": [
    {
     "data": {
      "image/png": "[encoded data removed]",
      "text/plain": [
       "<Figure size 864x720 with 1 Axes>"
      ]
     },
     "metadata": {},
     "output_type": "display_data"
    }
   ],
   "source": [
    "#scatterplot for production budget over the years\n",
    "fig, ax = plt.subplots(figsize=(12,10))\n",
    "ax.scatter('release_date', 'production_budget', data=tn_movie_budgets_cleaned.sample(frac=.1), marker='*')\n",
    "ax.set_title('Movie Production Budget over the Years')\n",
    "ax.set_xlabel(\"Year\")\n",
    "ax.set_ylabel(\"Production Budget, $\")\n",
    "ax.grid(linestyle='dashed');\n",
    "ax.set_xlim(1940, 2020);"
   ]
  },
  {
   "cell_type": "code",
   "execution_count": 80,
   "metadata": {},
   "outputs": [
    {
     "data": {
      "text/html": [
       "<div>\n",
       "<style scoped>\n",
       "    .dataframe tbody tr th:only-of-type {\n",
       "        vertical-align: middle;\n",
       "    }\n",
       "\n",
       "    .dataframe tbody tr th {\n",
       "        vertical-align: top;\n",
       "    }\n",
       "\n",
       "    .dataframe thead th {\n",
       "        text-align: right;\n",
       "    }\n",
       "</style>\n",
       "<table border=\"1\" class=\"dataframe\">\n",
       "  <thead>\n",
       "    <tr style=\"text-align: right;\">\n",
       "      <th></th>\n",
       "      <th>primary_title</th>\n",
       "      <th>original_title</th>\n",
       "      <th>start_year</th>\n",
       "      <th>runtime_minutes</th>\n",
       "      <th>genres</th>\n",
       "    </tr>\n",
       "    <tr>\n",
       "      <th>tconst</th>\n",
       "      <th></th>\n",
       "      <th></th>\n",
       "      <th></th>\n",
       "      <th></th>\n",
       "      <th></th>\n",
       "    </tr>\n",
       "  </thead>\n",
       "  <tbody>\n",
       "    <tr>\n",
       "      <td>tt0063540</td>\n",
       "      <td>Sunghursh</td>\n",
       "      <td>Sunghursh</td>\n",
       "      <td>2013</td>\n",
       "      <td>175.0</td>\n",
       "      <td>Action,Crime,Drama</td>\n",
       "    </tr>\n",
       "    <tr>\n",
       "      <td>tt0066787</td>\n",
       "      <td>One Day Before the Rainy Season</td>\n",
       "      <td>Ashad Ka Ek Din</td>\n",
       "      <td>2019</td>\n",
       "      <td>114.0</td>\n",
       "      <td>Biography,Drama</td>\n",
       "    </tr>\n",
       "    <tr>\n",
       "      <td>tt0069049</td>\n",
       "      <td>The Other Side of the Wind</td>\n",
       "      <td>The Other Side of the Wind</td>\n",
       "      <td>2018</td>\n",
       "      <td>122.0</td>\n",
       "      <td>Drama</td>\n",
       "    </tr>\n",
       "    <tr>\n",
       "      <td>tt0069204</td>\n",
       "      <td>Sabse Bada Sukh</td>\n",
       "      <td>Sabse Bada Sukh</td>\n",
       "      <td>2018</td>\n",
       "      <td>NaN</td>\n",
       "      <td>Comedy,Drama</td>\n",
       "    </tr>\n",
       "    <tr>\n",
       "      <td>tt0100275</td>\n",
       "      <td>The Wandering Soap Opera</td>\n",
       "      <td>La Telenovela Errante</td>\n",
       "      <td>2017</td>\n",
       "      <td>80.0</td>\n",
       "      <td>Comedy,Drama,Fantasy</td>\n",
       "    </tr>\n",
       "  </tbody>\n",
       "</table>\n",
       "</div>"
      ],
      "text/plain": [
       "                             primary_title              original_title  \\\n",
       "tconst                                                                   \n",
       "tt0063540                        Sunghursh                   Sunghursh   \n",
       "tt0066787  One Day Before the Rainy Season             Ashad Ka Ek Din   \n",
       "tt0069049       The Other Side of the Wind  The Other Side of the Wind   \n",
       "tt0069204                  Sabse Bada Sukh             Sabse Bada Sukh   \n",
       "tt0100275         The Wandering Soap Opera       La Telenovela Errante   \n",
       "\n",
       "           start_year  runtime_minutes                genres  \n",
       "tconst                                                        \n",
       "tt0063540        2013            175.0    Action,Crime,Drama  \n",
       "tt0066787        2019            114.0       Biography,Drama  \n",
       "tt0069049        2018            122.0                 Drama  \n",
       "tt0069204        2018              NaN          Comedy,Drama  \n",
       "tt0100275        2017             80.0  Comedy,Drama,Fantasy  "
      ]
     },
     "execution_count": 80,
     "metadata": {},
     "output_type": "execute_result"
    }
   ],
   "source": [
    "#DF required for runtime data\n",
    "imdb_title_basics.head()"
   ]
  },
  {
   "cell_type": "code",
   "execution_count": 81,
   "metadata": {
    "scrolled": true
   },
   "outputs": [
    {
     "name": "stdout",
     "output_type": "stream",
     "text": [
      "<class 'pandas.core.frame.DataFrame'>\n",
      "Index: 146144 entries, tt0063540 to tt9916754\n",
      "Data columns (total 5 columns):\n",
      "primary_title      146144 non-null object\n",
      "original_title     146123 non-null object\n",
      "start_year         146144 non-null int64\n",
      "runtime_minutes    114405 non-null float64\n",
      "genres             140736 non-null object\n",
      "dtypes: float64(1), int64(1), object(3)\n",
      "memory usage: 11.7+ MB\n",
      "None \n",
      "\n",
      " (146144, 5) \n",
      "\n",
      " Index(['primary_title', 'original_title', 'start_year', 'runtime_minutes',\n",
      "       'genres'],\n",
      "      dtype='object') \n",
      "\n",
      " primary_title          0\n",
      "original_title        21\n",
      "start_year             0\n",
      "runtime_minutes    31739\n",
      "genres              5408\n",
      "dtype: int64\n"
     ]
    }
   ],
   "source": [
    "#summary data for DF\n",
    "print(imdb_title_basics.info(), '\\n\\n',\n",
    "      imdb_title_basics.shape, '\\n\\n',\n",
    "      imdb_title_basics.columns, '\\n\\n',\n",
    "      imdb_title_basics.isna().sum())"
   ]
  },
  {
   "cell_type": "code",
   "execution_count": 82,
   "metadata": {},
   "outputs": [
    {
     "data": {
      "text/plain": [
       "False"
      ]
     },
     "execution_count": 82,
     "metadata": {},
     "output_type": "execute_result"
    }
   ],
   "source": [
    "imdb_title_basics['primary_title'].is_unique"
   ]
  },
  {
   "cell_type": "markdown",
   "metadata": {},
   "source": [
    "Points to note:\n",
    "1. Columns to drop: 'original_title', 'genres', 'start_year'\n",
    "2. Remove missing data in 'runtime_minutes'\n",
    "3. Remove duplicate movies -'primary_title' will be used to identify a unique entry- this column will act as the primary key in the joining of DFs at the next stage"
   ]
  },
  {
   "cell_type": "code",
   "execution_count": 83,
   "metadata": {},
   "outputs": [
    {
     "data": {
      "text/plain": [
       "6946"
      ]
     },
     "execution_count": 83,
     "metadata": {},
     "output_type": "execute_result"
    }
   ],
   "source": [
    "#dropping unnecessary columns and removing missing data rows\n",
    "imdb_title_basics= imdb_title_basics.drop(axis= 1, columns =['original_title', 'genres', 'start_year']).dropna()\n",
    "\n",
    "#finding the number of duplicated rows to be dropped\n",
    "imdb_title_basics.duplicated(subset =['primary_title'], keep='first').sum()"
   ]
  },
  {
   "cell_type": "code",
   "execution_count": 84,
   "metadata": {},
   "outputs": [
    {
     "name": "stdout",
     "output_type": "stream",
     "text": [
      "6946\n"
     ]
    }
   ],
   "source": [
    "#dropping duplicate rows \n",
    "imdb_title_basics_cleaned = imdb_title_basics.drop_duplicates(subset=['primary_title'])\n",
    "\n",
    "#checking the difference is equal to the number of duplicated rows\n",
    "print(len(imdb_title_basics)-len(imdb_title_basics_cleaned))"
   ]
  },
  {
   "cell_type": "code",
   "execution_count": 39,
   "metadata": {},
   "outputs": [
    {
     "name": "stdout",
     "output_type": "stream",
     "text": [
      "The current index is unique so has not been reset\n"
     ]
    },
    {
     "data": {
      "text/html": [
       "<div>\n",
       "<style scoped>\n",
       "    .dataframe tbody tr th:only-of-type {\n",
       "        vertical-align: middle;\n",
       "    }\n",
       "\n",
       "    .dataframe tbody tr th {\n",
       "        vertical-align: top;\n",
       "    }\n",
       "\n",
       "    .dataframe thead th {\n",
       "        text-align: right;\n",
       "    }\n",
       "</style>\n",
       "<table border=\"1\" class=\"dataframe\">\n",
       "  <thead>\n",
       "    <tr style=\"text-align: right;\">\n",
       "      <th></th>\n",
       "      <th>primary_title</th>\n",
       "      <th>runtime_minutes</th>\n",
       "    </tr>\n",
       "    <tr>\n",
       "      <th>tconst</th>\n",
       "      <th></th>\n",
       "      <th></th>\n",
       "    </tr>\n",
       "  </thead>\n",
       "  <tbody>\n",
       "    <tr>\n",
       "      <td>tt0063540</td>\n",
       "      <td>Sunghursh</td>\n",
       "      <td>175.0</td>\n",
       "    </tr>\n",
       "    <tr>\n",
       "      <td>tt0066787</td>\n",
       "      <td>One Day Before the Rainy Season</td>\n",
       "      <td>114.0</td>\n",
       "    </tr>\n",
       "    <tr>\n",
       "      <td>tt0069049</td>\n",
       "      <td>The Other Side of the Wind</td>\n",
       "      <td>122.0</td>\n",
       "    </tr>\n",
       "    <tr>\n",
       "      <td>tt0100275</td>\n",
       "      <td>The Wandering Soap Opera</td>\n",
       "      <td>80.0</td>\n",
       "    </tr>\n",
       "    <tr>\n",
       "      <td>tt0111414</td>\n",
       "      <td>A Thin Life</td>\n",
       "      <td>75.0</td>\n",
       "    </tr>\n",
       "  </tbody>\n",
       "</table>\n",
       "</div>"
      ],
      "text/plain": [
       "                             primary_title  runtime_minutes\n",
       "tconst                                                     \n",
       "tt0063540                        Sunghursh            175.0\n",
       "tt0066787  One Day Before the Rainy Season            114.0\n",
       "tt0069049       The Other Side of the Wind            122.0\n",
       "tt0100275         The Wandering Soap Opera             80.0\n",
       "tt0111414                      A Thin Life             75.0"
      ]
     },
     "execution_count": 39,
     "metadata": {},
     "output_type": "execute_result"
    }
   ],
   "source": [
    "set_unique_index(imdb_title_basics_cleaned)"
   ]
  },
  {
   "cell_type": "code",
   "execution_count": 85,
   "metadata": {
    "scrolled": true
   },
   "outputs": [
    {
     "data": {
      "text/html": [
       "<div>\n",
       "<style scoped>\n",
       "    .dataframe tbody tr th:only-of-type {\n",
       "        vertical-align: middle;\n",
       "    }\n",
       "\n",
       "    .dataframe tbody tr th {\n",
       "        vertical-align: top;\n",
       "    }\n",
       "\n",
       "    .dataframe thead th {\n",
       "        text-align: right;\n",
       "    }\n",
       "</style>\n",
       "<table border=\"1\" class=\"dataframe\">\n",
       "  <thead>\n",
       "    <tr style=\"text-align: right;\">\n",
       "      <th></th>\n",
       "      <th>runtime_minutes</th>\n",
       "    </tr>\n",
       "  </thead>\n",
       "  <tbody>\n",
       "    <tr>\n",
       "      <td>count</td>\n",
       "      <td>107459.000000</td>\n",
       "    </tr>\n",
       "    <tr>\n",
       "      <td>mean</td>\n",
       "      <td>86.195712</td>\n",
       "    </tr>\n",
       "    <tr>\n",
       "      <td>std</td>\n",
       "      <td>171.438678</td>\n",
       "    </tr>\n",
       "    <tr>\n",
       "      <td>min</td>\n",
       "      <td>1.000000</td>\n",
       "    </tr>\n",
       "    <tr>\n",
       "      <td>25%</td>\n",
       "      <td>70.000000</td>\n",
       "    </tr>\n",
       "    <tr>\n",
       "      <td>50%</td>\n",
       "      <td>87.000000</td>\n",
       "    </tr>\n",
       "    <tr>\n",
       "      <td>75%</td>\n",
       "      <td>99.000000</td>\n",
       "    </tr>\n",
       "    <tr>\n",
       "      <td>max</td>\n",
       "      <td>51420.000000</td>\n",
       "    </tr>\n",
       "  </tbody>\n",
       "</table>\n",
       "</div>"
      ],
      "text/plain": [
       "       runtime_minutes\n",
       "count    107459.000000\n",
       "mean         86.195712\n",
       "std         171.438678\n",
       "min           1.000000\n",
       "25%          70.000000\n",
       "50%          87.000000\n",
       "75%          99.000000\n",
       "max       51420.000000"
      ]
     },
     "execution_count": 85,
     "metadata": {},
     "output_type": "execute_result"
    }
   ],
   "source": [
    "#summary stats for runtime\n",
    "imdb_title_basics_cleaned.describe()"
   ]
  },
  {
   "cell_type": "markdown",
   "metadata": {},
   "source": [
    "Min and max values indicate outliers exist. These will need to be detected and removed. "
   ]
  },
  {
   "cell_type": "code",
   "execution_count": 163,
   "metadata": {},
   "outputs": [
    {
     "data": {
      "text/html": [
       "<div>\n",
       "<style scoped>\n",
       "    .dataframe tbody tr th:only-of-type {\n",
       "        vertical-align: middle;\n",
       "    }\n",
       "\n",
       "    .dataframe tbody tr th {\n",
       "        vertical-align: top;\n",
       "    }\n",
       "\n",
       "    .dataframe thead th {\n",
       "        text-align: right;\n",
       "    }\n",
       "</style>\n",
       "<table border=\"1\" class=\"dataframe\">\n",
       "  <thead>\n",
       "    <tr style=\"text-align: right;\">\n",
       "      <th></th>\n",
       "      <th>runtime_minutes</th>\n",
       "    </tr>\n",
       "  </thead>\n",
       "  <tbody>\n",
       "    <tr>\n",
       "      <td>count</td>\n",
       "      <td>101149.000000</td>\n",
       "    </tr>\n",
       "    <tr>\n",
       "      <td>mean</td>\n",
       "      <td>84.960603</td>\n",
       "    </tr>\n",
       "    <tr>\n",
       "      <td>std</td>\n",
       "      <td>21.892446</td>\n",
       "    </tr>\n",
       "    <tr>\n",
       "      <td>min</td>\n",
       "      <td>27.000000</td>\n",
       "    </tr>\n",
       "    <tr>\n",
       "      <td>25%</td>\n",
       "      <td>71.000000</td>\n",
       "    </tr>\n",
       "    <tr>\n",
       "      <td>50%</td>\n",
       "      <td>87.000000</td>\n",
       "    </tr>\n",
       "    <tr>\n",
       "      <td>75%</td>\n",
       "      <td>98.000000</td>\n",
       "    </tr>\n",
       "    <tr>\n",
       "      <td>max</td>\n",
       "      <td>142.000000</td>\n",
       "    </tr>\n",
       "  </tbody>\n",
       "</table>\n",
       "</div>"
      ],
      "text/plain": [
       "       runtime_minutes\n",
       "count    101149.000000\n",
       "mean         84.960603\n",
       "std          21.892446\n",
       "min          27.000000\n",
       "25%          71.000000\n",
       "50%          87.000000\n",
       "75%          98.000000\n",
       "max         142.000000"
      ]
     },
     "execution_count": 163,
     "metadata": {},
     "output_type": "execute_result"
    }
   ],
   "source": [
    "#function to identify and remove outliers using IQR\n",
    "def remove_outlier(df_in, col_name):\n",
    "    q1 = df_in[col_name].quantile(0.25)\n",
    "    q3 = df_in[col_name].quantile(0.75)\n",
    "    iqr = q3-q1 #Interquartile range\n",
    "    fence_low  = q1-(1.5*iqr)\n",
    "    fence_high = q3+(1.5*iqr)\n",
    "    df_out = df_in.loc[(df_in[col_name] > fence_low) & (df_in[col_name] < fence_high)]\n",
    "    return df_out \n",
    "\n",
    "runtime = remove_outlier(imdb_title_basics_cleaned, 'runtime_minutes')\n",
    "runtime.describe() #focus on min/max to check these are no longer obvious outliers"
   ]
  },
  {
   "cell_type": "code",
   "execution_count": 87,
   "metadata": {},
   "outputs": [
    {
     "data": {
      "text/html": [
       "<div>\n",
       "<style scoped>\n",
       "    .dataframe tbody tr th:only-of-type {\n",
       "        vertical-align: middle;\n",
       "    }\n",
       "\n",
       "    .dataframe tbody tr th {\n",
       "        vertical-align: top;\n",
       "    }\n",
       "\n",
       "    .dataframe thead th {\n",
       "        text-align: right;\n",
       "    }\n",
       "</style>\n",
       "<table border=\"1\" class=\"dataframe\">\n",
       "  <thead>\n",
       "    <tr style=\"text-align: right;\">\n",
       "      <th></th>\n",
       "      <th>primary_title</th>\n",
       "      <th>runtime_minutes</th>\n",
       "      <th>release_date</th>\n",
       "      <th>production_budget</th>\n",
       "    </tr>\n",
       "  </thead>\n",
       "  <tbody>\n",
       "    <tr>\n",
       "      <td>0</td>\n",
       "      <td>Foodfight!</td>\n",
       "      <td>91.0</td>\n",
       "      <td>2012</td>\n",
       "      <td>45000000</td>\n",
       "    </tr>\n",
       "    <tr>\n",
       "      <td>1</td>\n",
       "      <td>The Overnight</td>\n",
       "      <td>88.0</td>\n",
       "      <td>2015</td>\n",
       "      <td>200000</td>\n",
       "    </tr>\n",
       "    <tr>\n",
       "      <td>2</td>\n",
       "      <td>On the Road</td>\n",
       "      <td>124.0</td>\n",
       "      <td>2013</td>\n",
       "      <td>25000000</td>\n",
       "    </tr>\n",
       "    <tr>\n",
       "      <td>3</td>\n",
       "      <td>The Secret Life of Walter Mitty</td>\n",
       "      <td>114.0</td>\n",
       "      <td>2013</td>\n",
       "      <td>91000000</td>\n",
       "    </tr>\n",
       "    <tr>\n",
       "      <td>4</td>\n",
       "      <td>A Walk Among the Tombstones</td>\n",
       "      <td>114.0</td>\n",
       "      <td>2014</td>\n",
       "      <td>28000000</td>\n",
       "    </tr>\n",
       "    <tr>\n",
       "      <td>...</td>\n",
       "      <td>...</td>\n",
       "      <td>...</td>\n",
       "      <td>...</td>\n",
       "      <td>...</td>\n",
       "    </tr>\n",
       "    <tr>\n",
       "      <td>2159</td>\n",
       "      <td>Stay Alive</td>\n",
       "      <td>72.0</td>\n",
       "      <td>2006</td>\n",
       "      <td>20000000</td>\n",
       "    </tr>\n",
       "    <tr>\n",
       "      <td>2160</td>\n",
       "      <td>Darkness</td>\n",
       "      <td>98.0</td>\n",
       "      <td>2004</td>\n",
       "      <td>10600000</td>\n",
       "    </tr>\n",
       "    <tr>\n",
       "      <td>2161</td>\n",
       "      <td>The Blue Bird</td>\n",
       "      <td>84.0</td>\n",
       "      <td>1976</td>\n",
       "      <td>1200000</td>\n",
       "    </tr>\n",
       "    <tr>\n",
       "      <td>2162</td>\n",
       "      <td>Traitor</td>\n",
       "      <td>110.0</td>\n",
       "      <td>2008</td>\n",
       "      <td>22000000</td>\n",
       "    </tr>\n",
       "    <tr>\n",
       "      <td>2163</td>\n",
       "      <td>Ray</td>\n",
       "      <td>111.0</td>\n",
       "      <td>2004</td>\n",
       "      <td>40000000</td>\n",
       "    </tr>\n",
       "  </tbody>\n",
       "</table>\n",
       "<p>2164 rows × 4 columns</p>\n",
       "</div>"
      ],
      "text/plain": [
       "                        primary_title  runtime_minutes  release_date  \\\n",
       "0                          Foodfight!             91.0          2012   \n",
       "1                       The Overnight             88.0          2015   \n",
       "2                         On the Road            124.0          2013   \n",
       "3     The Secret Life of Walter Mitty            114.0          2013   \n",
       "4         A Walk Among the Tombstones            114.0          2014   \n",
       "...                               ...              ...           ...   \n",
       "2159                       Stay Alive             72.0          2006   \n",
       "2160                         Darkness             98.0          2004   \n",
       "2161                    The Blue Bird             84.0          1976   \n",
       "2162                          Traitor            110.0          2008   \n",
       "2163                              Ray            111.0          2004   \n",
       "\n",
       "      production_budget  \n",
       "0              45000000  \n",
       "1                200000  \n",
       "2              25000000  \n",
       "3              91000000  \n",
       "4              28000000  \n",
       "...                 ...  \n",
       "2159           20000000  \n",
       "2160           10600000  \n",
       "2161            1200000  \n",
       "2162           22000000  \n",
       "2163           40000000  \n",
       "\n",
       "[2164 rows x 4 columns]"
      ]
     },
     "execution_count": 87,
     "metadata": {},
     "output_type": "execute_result"
    }
   ],
   "source": [
    "#inner join of the 2 DFs\n",
    "prodbudg_runtime = runtime.merge(tn_movie_budgets_cleaned, how='inner', left_on= 'primary_title', right_on = 'movie')\n",
    "\n",
    "#dropping the redundant column\n",
    "prodbudg_runtime=prodbudg_runtime.drop(axis=1, columns='movie')\n",
    "prodbudg_runtime"
   ]
  },
  {
   "cell_type": "code",
   "execution_count": 158,
   "metadata": {
    "scrolled": true
   },
   "outputs": [
    {
     "data": {
      "text/html": [
       "<div>\n",
       "<style scoped>\n",
       "    .dataframe tbody tr th:only-of-type {\n",
       "        vertical-align: middle;\n",
       "    }\n",
       "\n",
       "    .dataframe tbody tr th {\n",
       "        vertical-align: top;\n",
       "    }\n",
       "\n",
       "    .dataframe thead th {\n",
       "        text-align: right;\n",
       "    }\n",
       "</style>\n",
       "<table border=\"1\" class=\"dataframe\">\n",
       "  <thead>\n",
       "    <tr style=\"text-align: right;\">\n",
       "      <th></th>\n",
       "      <th>runtime_minutes</th>\n",
       "      <th>release_date</th>\n",
       "      <th>production_budget</th>\n",
       "    </tr>\n",
       "  </thead>\n",
       "  <tbody>\n",
       "    <tr>\n",
       "      <td>runtime_minutes</td>\n",
       "      <td>1.000000</td>\n",
       "      <td>0.213555</td>\n",
       "      <td>0.275995</td>\n",
       "    </tr>\n",
       "    <tr>\n",
       "      <td>release_date</td>\n",
       "      <td>0.213555</td>\n",
       "      <td>1.000000</td>\n",
       "      <td>0.115644</td>\n",
       "    </tr>\n",
       "    <tr>\n",
       "      <td>production_budget</td>\n",
       "      <td>0.275995</td>\n",
       "      <td>0.115644</td>\n",
       "      <td>1.000000</td>\n",
       "    </tr>\n",
       "  </tbody>\n",
       "</table>\n",
       "</div>"
      ],
      "text/plain": [
       "                   runtime_minutes  release_date  production_budget\n",
       "runtime_minutes           1.000000      0.213555           0.275995\n",
       "release_date              0.213555      1.000000           0.115644\n",
       "production_budget         0.275995      0.115644           1.000000"
      ]
     },
     "execution_count": 158,
     "metadata": {},
     "output_type": "execute_result"
    }
   ],
   "source": [
    "#pairwise correlation between runtime,production budget and release date\n",
    "prodbudg_runtime.corr()"
   ]
  },
  {
   "cell_type": "code",
   "execution_count": 161,
   "metadata": {},
   "outputs": [
    {
     "data": {
      "text/plain": [
       "0.276"
      ]
     },
     "execution_count": 161,
     "metadata": {},
     "output_type": "execute_result"
    }
   ],
   "source": [
    "prodbudg_runtime.corr().loc['runtime_minutes', 'production_budget'].round(4)"
   ]
  },
  {
   "cell_type": "code",
   "execution_count": 143,
   "metadata": {
    "scrolled": true
   },
   "outputs": [
    {
     "data": {
      "image/png": "[encoded data removed]",
      "text/plain": [
       "<Figure size 864x720 with 1 Axes>"
      ]
     },
     "metadata": {},
     "output_type": "display_data"
    }
   ],
   "source": [
    "#plot to visualise runtime vs production budget\n",
    "plt.figure(figsize=(12, 10))\n",
    "sns.regplot(x='runtime_minutes', y='production_budget', data=prodbudg_runtime.sample(frac=0.2))\n",
    "plt.xlabel('Runtime(minutes)')\n",
    "plt.ylabel('Production Budget, $')\n",
    "plt.title(\"Runtime vs. Production Budget\");"
   ]
  },
  {
   "cell_type": "markdown",
   "metadata": {},
   "source": [
    "### Results & Action\n",
    "\n",
    "- Movie production budget shows a positive trend with time. This is as expected due to economic factors such as inflation.\n",
    "\n",
    "\n",
    "- The correlation coefficient between movie runtime and  production budget = 0.276 : weak positive correlation so little evidence of a relationship between movie runtime and production budget. Whilst the regression plot shows that there is a positive trend between the 2 variables, it is weak as there are also many data points which show variation from the line of best fit. ie. a longer length movie is not always achieved with a high production budget. It is likely that runtime is one of many other variables which determine the production budget of a movie. Future work: multiple regression analysis to determine which variables influence production budget the most\n",
    "\n",
    "\n",
    "- In order to stay within their set production budget, Microsoft do not need to focus heavily on producing a movie with a specific runtime. The average movie runtime is 85 minutes (standard deviation 22 minutes), so aiming within this range would be a good choice for their debut."
   ]
  },
  {
   "cell_type": "markdown",
   "metadata": {},
   "source": [
    "## Q3 - Who are the top movie studios?"
   ]
  },
  {
   "cell_type": "markdown",
   "metadata": {},
   "source": [
    "I will carry out this analysis on a data subset of the highest rated movies, where 'averagerating' will be the measure to determine movie rating.\n",
    "\n",
    "First, I will investigate the ratings dataset and ensure this can be used as reliable measure to identify the highest rated movies."
   ]
  },
  {
   "cell_type": "code",
   "execution_count": 108,
   "metadata": {
    "scrolled": true
   },
   "outputs": [
    {
     "data": {
      "text/html": [
       "<div>\n",
       "<style scoped>\n",
       "    .dataframe tbody tr th:only-of-type {\n",
       "        vertical-align: middle;\n",
       "    }\n",
       "\n",
       "    .dataframe tbody tr th {\n",
       "        vertical-align: top;\n",
       "    }\n",
       "\n",
       "    .dataframe thead th {\n",
       "        text-align: right;\n",
       "    }\n",
       "</style>\n",
       "<table border=\"1\" class=\"dataframe\">\n",
       "  <thead>\n",
       "    <tr style=\"text-align: right;\">\n",
       "      <th></th>\n",
       "      <th>averagerating</th>\n",
       "      <th>numvotes</th>\n",
       "    </tr>\n",
       "    <tr>\n",
       "      <th>tconst</th>\n",
       "      <th></th>\n",
       "      <th></th>\n",
       "    </tr>\n",
       "  </thead>\n",
       "  <tbody>\n",
       "    <tr>\n",
       "      <td>tt10356526</td>\n",
       "      <td>8.3</td>\n",
       "      <td>31</td>\n",
       "    </tr>\n",
       "    <tr>\n",
       "      <td>tt10384606</td>\n",
       "      <td>8.9</td>\n",
       "      <td>559</td>\n",
       "    </tr>\n",
       "    <tr>\n",
       "      <td>tt1042974</td>\n",
       "      <td>6.4</td>\n",
       "      <td>20</td>\n",
       "    </tr>\n",
       "    <tr>\n",
       "      <td>tt1043726</td>\n",
       "      <td>4.2</td>\n",
       "      <td>50352</td>\n",
       "    </tr>\n",
       "    <tr>\n",
       "      <td>tt1060240</td>\n",
       "      <td>6.5</td>\n",
       "      <td>21</td>\n",
       "    </tr>\n",
       "    <tr>\n",
       "      <td>...</td>\n",
       "      <td>...</td>\n",
       "      <td>...</td>\n",
       "    </tr>\n",
       "    <tr>\n",
       "      <td>tt9805820</td>\n",
       "      <td>8.1</td>\n",
       "      <td>25</td>\n",
       "    </tr>\n",
       "    <tr>\n",
       "      <td>tt9844256</td>\n",
       "      <td>7.5</td>\n",
       "      <td>24</td>\n",
       "    </tr>\n",
       "    <tr>\n",
       "      <td>tt9851050</td>\n",
       "      <td>4.7</td>\n",
       "      <td>14</td>\n",
       "    </tr>\n",
       "    <tr>\n",
       "      <td>tt9886934</td>\n",
       "      <td>7.0</td>\n",
       "      <td>5</td>\n",
       "    </tr>\n",
       "    <tr>\n",
       "      <td>tt9894098</td>\n",
       "      <td>6.3</td>\n",
       "      <td>128</td>\n",
       "    </tr>\n",
       "  </tbody>\n",
       "</table>\n",
       "<p>73856 rows × 2 columns</p>\n",
       "</div>"
      ],
      "text/plain": [
       "            averagerating  numvotes\n",
       "tconst                             \n",
       "tt10356526            8.3        31\n",
       "tt10384606            8.9       559\n",
       "tt1042974             6.4        20\n",
       "tt1043726             4.2     50352\n",
       "tt1060240             6.5        21\n",
       "...                   ...       ...\n",
       "tt9805820             8.1        25\n",
       "tt9844256             7.5        24\n",
       "tt9851050             4.7        14\n",
       "tt9886934             7.0         5\n",
       "tt9894098             6.3       128\n",
       "\n",
       "[73856 rows x 2 columns]"
      ]
     },
     "execution_count": 108,
     "metadata": {},
     "output_type": "execute_result"
    }
   ],
   "source": [
    "ratings = data_dict['imdb_title_ratings']\n",
    "ratings"
   ]
  },
  {
   "cell_type": "code",
   "execution_count": 109,
   "metadata": {
    "scrolled": false
   },
   "outputs": [
    {
     "data": {
      "text/html": [
       "<div>\n",
       "<style scoped>\n",
       "    .dataframe tbody tr th:only-of-type {\n",
       "        vertical-align: middle;\n",
       "    }\n",
       "\n",
       "    .dataframe tbody tr th {\n",
       "        vertical-align: top;\n",
       "    }\n",
       "\n",
       "    .dataframe thead th {\n",
       "        text-align: right;\n",
       "    }\n",
       "</style>\n",
       "<table border=\"1\" class=\"dataframe\">\n",
       "  <thead>\n",
       "    <tr style=\"text-align: right;\">\n",
       "      <th></th>\n",
       "      <th>averagerating</th>\n",
       "      <th>numvotes</th>\n",
       "    </tr>\n",
       "  </thead>\n",
       "  <tbody>\n",
       "    <tr>\n",
       "      <td>count</td>\n",
       "      <td>73856.000000</td>\n",
       "      <td>7.385600e+04</td>\n",
       "    </tr>\n",
       "    <tr>\n",
       "      <td>mean</td>\n",
       "      <td>6.332729</td>\n",
       "      <td>3.523662e+03</td>\n",
       "    </tr>\n",
       "    <tr>\n",
       "      <td>std</td>\n",
       "      <td>1.474978</td>\n",
       "      <td>3.029402e+04</td>\n",
       "    </tr>\n",
       "    <tr>\n",
       "      <td>min</td>\n",
       "      <td>1.000000</td>\n",
       "      <td>5.000000e+00</td>\n",
       "    </tr>\n",
       "    <tr>\n",
       "      <td>25%</td>\n",
       "      <td>5.500000</td>\n",
       "      <td>1.400000e+01</td>\n",
       "    </tr>\n",
       "    <tr>\n",
       "      <td>50%</td>\n",
       "      <td>6.500000</td>\n",
       "      <td>4.900000e+01</td>\n",
       "    </tr>\n",
       "    <tr>\n",
       "      <td>75%</td>\n",
       "      <td>7.400000</td>\n",
       "      <td>2.820000e+02</td>\n",
       "    </tr>\n",
       "    <tr>\n",
       "      <td>max</td>\n",
       "      <td>10.000000</td>\n",
       "      <td>1.841066e+06</td>\n",
       "    </tr>\n",
       "  </tbody>\n",
       "</table>\n",
       "</div>"
      ],
      "text/plain": [
       "       averagerating      numvotes\n",
       "count   73856.000000  7.385600e+04\n",
       "mean        6.332729  3.523662e+03\n",
       "std         1.474978  3.029402e+04\n",
       "min         1.000000  5.000000e+00\n",
       "25%         5.500000  1.400000e+01\n",
       "50%         6.500000  4.900000e+01\n",
       "75%         7.400000  2.820000e+02\n",
       "max        10.000000  1.841066e+06"
      ]
     },
     "execution_count": 109,
     "metadata": {},
     "output_type": "execute_result"
    }
   ],
   "source": [
    "#statistical summary of df\n",
    "ratings.describe()"
   ]
  },
  {
   "cell_type": "markdown",
   "metadata": {},
   "source": [
    "The 'averagerating' column will be used to determine the highest rated movies. However the number of votes contributing to each average rating is inconsistent and has a large range. (max=1841066, min=5). I will assume that the entries with a higher number of votes are a closer representation of the true averagerating and so will filter to use data from the 4th quartile only. I will not be removing any statistical outliers as it is possible these may not be true outliers as it is likely there will be some movies which have a significantly higher number of reviews/votes."
   ]
  },
  {
   "cell_type": "code",
   "execution_count": 110,
   "metadata": {
    "scrolled": true
   },
   "outputs": [
    {
     "data": {
      "text/plain": [
       "13917.0"
      ]
     },
     "execution_count": 110,
     "metadata": {},
     "output_type": "execute_result"
    }
   ],
   "source": [
    "#filtering dataset for 4th Quartile of Number of votes\n",
    "q_low = ratings['numvotes'].quantile(0.75)\n",
    "q_high = ratings['numvotes'].quantile(1)\n",
    "\n",
    "ratings_Q4= ratings.query('@q_low <= numvotes <= @q_high')\n",
    "ratings_Q4['numvotes'].mean().round(0)"
   ]
  },
  {
   "cell_type": "markdown",
   "metadata": {},
   "source": [
    "*note: For 'ratings_Q4', the mean number of votes per movie is 13,917 (compared to 3,523 per movie for 'ratings'.)* "
   ]
  },
  {
   "cell_type": "code",
   "execution_count": 111,
   "metadata": {},
   "outputs": [],
   "source": [
    "#DFs required for studio analysis\n",
    "titles = data_dict['imdb_title_basics']\n",
    "studios = data_dict['bom_movie_gross']"
   ]
  },
  {
   "cell_type": "code",
   "execution_count": 112,
   "metadata": {},
   "outputs": [
    {
     "data": {
      "text/html": [
       "<div>\n",
       "<style scoped>\n",
       "    .dataframe tbody tr th:only-of-type {\n",
       "        vertical-align: middle;\n",
       "    }\n",
       "\n",
       "    .dataframe tbody tr th {\n",
       "        vertical-align: top;\n",
       "    }\n",
       "\n",
       "    .dataframe thead th {\n",
       "        text-align: right;\n",
       "    }\n",
       "</style>\n",
       "<table border=\"1\" class=\"dataframe\">\n",
       "  <thead>\n",
       "    <tr style=\"text-align: right;\">\n",
       "      <th></th>\n",
       "      <th>studio</th>\n",
       "      <th>domestic_gross</th>\n",
       "      <th>foreign_gross</th>\n",
       "      <th>year</th>\n",
       "    </tr>\n",
       "    <tr>\n",
       "      <th>title</th>\n",
       "      <th></th>\n",
       "      <th></th>\n",
       "      <th></th>\n",
       "      <th></th>\n",
       "    </tr>\n",
       "  </thead>\n",
       "  <tbody>\n",
       "    <tr>\n",
       "      <td>Toy Story 3</td>\n",
       "      <td>BV</td>\n",
       "      <td>415000000.0</td>\n",
       "      <td>652000000</td>\n",
       "      <td>2010</td>\n",
       "    </tr>\n",
       "    <tr>\n",
       "      <td>Alice in Wonderland (2010)</td>\n",
       "      <td>BV</td>\n",
       "      <td>334200000.0</td>\n",
       "      <td>691300000</td>\n",
       "      <td>2010</td>\n",
       "    </tr>\n",
       "    <tr>\n",
       "      <td>Harry Potter and the Deathly Hallows Part 1</td>\n",
       "      <td>WB</td>\n",
       "      <td>296000000.0</td>\n",
       "      <td>664300000</td>\n",
       "      <td>2010</td>\n",
       "    </tr>\n",
       "    <tr>\n",
       "      <td>Inception</td>\n",
       "      <td>WB</td>\n",
       "      <td>292600000.0</td>\n",
       "      <td>535700000</td>\n",
       "      <td>2010</td>\n",
       "    </tr>\n",
       "    <tr>\n",
       "      <td>Shrek Forever After</td>\n",
       "      <td>P/DW</td>\n",
       "      <td>238700000.0</td>\n",
       "      <td>513900000</td>\n",
       "      <td>2010</td>\n",
       "    </tr>\n",
       "  </tbody>\n",
       "</table>\n",
       "</div>"
      ],
      "text/plain": [
       "                                            studio  domestic_gross  \\\n",
       "title                                                                \n",
       "Toy Story 3                                     BV     415000000.0   \n",
       "Alice in Wonderland (2010)                      BV     334200000.0   \n",
       "Harry Potter and the Deathly Hallows Part 1     WB     296000000.0   \n",
       "Inception                                       WB     292600000.0   \n",
       "Shrek Forever After                           P/DW     238700000.0   \n",
       "\n",
       "                                            foreign_gross  year  \n",
       "title                                                            \n",
       "Toy Story 3                                     652000000  2010  \n",
       "Alice in Wonderland (2010)                      691300000  2010  \n",
       "Harry Potter and the Deathly Hallows Part 1     664300000  2010  \n",
       "Inception                                       535700000  2010  \n",
       "Shrek Forever After                             513900000  2010  "
      ]
     },
     "execution_count": 112,
     "metadata": {},
     "output_type": "execute_result"
    }
   ],
   "source": [
    "studios.head()"
   ]
  },
  {
   "cell_type": "code",
   "execution_count": 113,
   "metadata": {
    "scrolled": true
   },
   "outputs": [
    {
     "name": "stdout",
     "output_type": "stream",
     "text": [
      "<class 'pandas.core.frame.DataFrame'>\n",
      "Index: 3387 entries, Toy Story 3 to An Actor Prepares\n",
      "Data columns (total 4 columns):\n",
      "studio            3382 non-null object\n",
      "domestic_gross    3359 non-null float64\n",
      "foreign_gross     2037 non-null object\n",
      "year              3387 non-null int64\n",
      "dtypes: float64(1), int64(1), object(2)\n",
      "memory usage: 132.3+ KB\n",
      "None \n",
      "\n",
      " Index(['studio', 'domestic_gross', 'foreign_gross', 'year'], dtype='object') \n",
      "\n",
      " (3387, 4) \n",
      "\n",
      " studio               5\n",
      "domestic_gross      28\n",
      "foreign_gross     1350\n",
      "year                 0\n",
      "dtype: int64\n"
     ]
    }
   ],
   "source": [
    "#summary data for studios DF\n",
    "print(studios.info(), '\\n\\n',\n",
    "      studios.columns, '\\n\\n',\n",
    "      studios.shape, '\\n\\n', \n",
    "      studios.isna().sum())"
   ]
  },
  {
   "cell_type": "markdown",
   "metadata": {},
   "source": [
    "Points to note:\n",
    "1. missing values in 'studio' column - to be removed\n",
    "2. gross revenue columns will not be used for this analysis"
   ]
  },
  {
   "cell_type": "code",
   "execution_count": 114,
   "metadata": {},
   "outputs": [
    {
     "data": {
      "text/plain": [
       "0"
      ]
     },
     "execution_count": 114,
     "metadata": {},
     "output_type": "execute_result"
    }
   ],
   "source": [
    "#drop the missing values from 'studio' column\n",
    "studios_cleaned = studios.dropna(subset=['studio'])\n",
    "studios_cleaned['studio'].isna().sum()"
   ]
  },
  {
   "cell_type": "code",
   "execution_count": 115,
   "metadata": {
    "scrolled": true
   },
   "outputs": [
    {
     "data": {
      "text/plain": [
       "count     3382\n",
       "unique     257\n",
       "top        IFC\n",
       "freq       166\n",
       "Name: studio, dtype: object"
      ]
     },
     "execution_count": 115,
     "metadata": {},
     "output_type": "execute_result"
    }
   ],
   "source": [
    "studios_cleaned['studio'].describe()"
   ]
  },
  {
   "cell_type": "code",
   "execution_count": 116,
   "metadata": {
    "scrolled": true
   },
   "outputs": [
    {
     "data": {
      "text/plain": [
       "2653"
      ]
     },
     "execution_count": 116,
     "metadata": {},
     "output_type": "execute_result"
    }
   ],
   "source": [
    "#merge 3 DFs together using an inner join\n",
    "studio_ratings =titles.merge(ratings_Q4, left_index=True, right_index=True).merge(studios_cleaned, left_on='primary_title', right_index=True)\n",
    "\n",
    "#number of rows in the resulting DF\n",
    "studio_ratings.shape[0]"
   ]
  },
  {
   "cell_type": "code",
   "execution_count": 117,
   "metadata": {},
   "outputs": [
    {
     "data": {
      "text/html": [
       "<div>\n",
       "<style scoped>\n",
       "    .dataframe tbody tr th:only-of-type {\n",
       "        vertical-align: middle;\n",
       "    }\n",
       "\n",
       "    .dataframe tbody tr th {\n",
       "        vertical-align: top;\n",
       "    }\n",
       "\n",
       "    .dataframe thead th {\n",
       "        text-align: right;\n",
       "    }\n",
       "</style>\n",
       "<table border=\"1\" class=\"dataframe\">\n",
       "  <thead>\n",
       "    <tr style=\"text-align: right;\">\n",
       "      <th></th>\n",
       "      <th>primary_title</th>\n",
       "      <th>original_title</th>\n",
       "      <th>start_year</th>\n",
       "      <th>runtime_minutes</th>\n",
       "      <th>genres</th>\n",
       "      <th>averagerating</th>\n",
       "      <th>numvotes</th>\n",
       "      <th>studio</th>\n",
       "      <th>domestic_gross</th>\n",
       "      <th>foreign_gross</th>\n",
       "      <th>year</th>\n",
       "    </tr>\n",
       "    <tr>\n",
       "      <th>tconst</th>\n",
       "      <th></th>\n",
       "      <th></th>\n",
       "      <th></th>\n",
       "      <th></th>\n",
       "      <th></th>\n",
       "      <th></th>\n",
       "      <th></th>\n",
       "      <th></th>\n",
       "      <th></th>\n",
       "      <th></th>\n",
       "      <th></th>\n",
       "    </tr>\n",
       "  </thead>\n",
       "  <tbody>\n",
       "    <tr>\n",
       "      <td>tt0315642</td>\n",
       "      <td>Wazir</td>\n",
       "      <td>Wazir</td>\n",
       "      <td>2016</td>\n",
       "      <td>103.0</td>\n",
       "      <td>Action,Crime,Drama</td>\n",
       "      <td>7.1</td>\n",
       "      <td>15378</td>\n",
       "      <td>Relbig.</td>\n",
       "      <td>1100000.0</td>\n",
       "      <td>NaN</td>\n",
       "      <td>2016</td>\n",
       "    </tr>\n",
       "    <tr>\n",
       "      <td>tt0337692</td>\n",
       "      <td>On the Road</td>\n",
       "      <td>On the Road</td>\n",
       "      <td>2012</td>\n",
       "      <td>124.0</td>\n",
       "      <td>Adventure,Drama,Romance</td>\n",
       "      <td>6.1</td>\n",
       "      <td>37886</td>\n",
       "      <td>IFC</td>\n",
       "      <td>744000.0</td>\n",
       "      <td>8000000</td>\n",
       "      <td>2012</td>\n",
       "    </tr>\n",
       "    <tr>\n",
       "      <td>tt0359950</td>\n",
       "      <td>The Secret Life of Walter Mitty</td>\n",
       "      <td>The Secret Life of Walter Mitty</td>\n",
       "      <td>2013</td>\n",
       "      <td>114.0</td>\n",
       "      <td>Adventure,Comedy,Drama</td>\n",
       "      <td>7.3</td>\n",
       "      <td>275300</td>\n",
       "      <td>Fox</td>\n",
       "      <td>58200000.0</td>\n",
       "      <td>129900000</td>\n",
       "      <td>2013</td>\n",
       "    </tr>\n",
       "    <tr>\n",
       "      <td>tt0365907</td>\n",
       "      <td>A Walk Among the Tombstones</td>\n",
       "      <td>A Walk Among the Tombstones</td>\n",
       "      <td>2014</td>\n",
       "      <td>114.0</td>\n",
       "      <td>Action,Crime,Drama</td>\n",
       "      <td>6.5</td>\n",
       "      <td>105116</td>\n",
       "      <td>Uni.</td>\n",
       "      <td>26300000.0</td>\n",
       "      <td>26900000</td>\n",
       "      <td>2014</td>\n",
       "    </tr>\n",
       "    <tr>\n",
       "      <td>tt0369610</td>\n",
       "      <td>Jurassic World</td>\n",
       "      <td>Jurassic World</td>\n",
       "      <td>2015</td>\n",
       "      <td>124.0</td>\n",
       "      <td>Action,Adventure,Sci-Fi</td>\n",
       "      <td>7.0</td>\n",
       "      <td>539338</td>\n",
       "      <td>Uni.</td>\n",
       "      <td>652300000.0</td>\n",
       "      <td>1,019.4</td>\n",
       "      <td>2015</td>\n",
       "    </tr>\n",
       "  </tbody>\n",
       "</table>\n",
       "</div>"
      ],
      "text/plain": [
       "                             primary_title                   original_title  \\\n",
       "tconst                                                                        \n",
       "tt0315642                            Wazir                            Wazir   \n",
       "tt0337692                      On the Road                      On the Road   \n",
       "tt0359950  The Secret Life of Walter Mitty  The Secret Life of Walter Mitty   \n",
       "tt0365907      A Walk Among the Tombstones      A Walk Among the Tombstones   \n",
       "tt0369610                   Jurassic World                   Jurassic World   \n",
       "\n",
       "           start_year  runtime_minutes                   genres  \\\n",
       "tconst                                                            \n",
       "tt0315642        2016            103.0       Action,Crime,Drama   \n",
       "tt0337692        2012            124.0  Adventure,Drama,Romance   \n",
       "tt0359950        2013            114.0   Adventure,Comedy,Drama   \n",
       "tt0365907        2014            114.0       Action,Crime,Drama   \n",
       "tt0369610        2015            124.0  Action,Adventure,Sci-Fi   \n",
       "\n",
       "           averagerating  numvotes   studio  domestic_gross foreign_gross  \\\n",
       "tconst                                                                      \n",
       "tt0315642            7.1     15378  Relbig.       1100000.0           NaN   \n",
       "tt0337692            6.1     37886      IFC        744000.0       8000000   \n",
       "tt0359950            7.3    275300      Fox      58200000.0     129900000   \n",
       "tt0365907            6.5    105116     Uni.      26300000.0      26900000   \n",
       "tt0369610            7.0    539338     Uni.     652300000.0       1,019.4   \n",
       "\n",
       "           year  \n",
       "tconst           \n",
       "tt0315642  2016  \n",
       "tt0337692  2012  \n",
       "tt0359950  2013  \n",
       "tt0365907  2014  \n",
       "tt0369610  2015  "
      ]
     },
     "execution_count": 117,
     "metadata": {},
     "output_type": "execute_result"
    }
   ],
   "source": [
    "studio_ratings.head()"
   ]
  },
  {
   "cell_type": "code",
   "execution_count": 118,
   "metadata": {},
   "outputs": [
    {
     "data": {
      "text/html": [
       "<div>\n",
       "<style scoped>\n",
       "    .dataframe tbody tr th:only-of-type {\n",
       "        vertical-align: middle;\n",
       "    }\n",
       "\n",
       "    .dataframe tbody tr th {\n",
       "        vertical-align: top;\n",
       "    }\n",
       "\n",
       "    .dataframe thead th {\n",
       "        text-align: right;\n",
       "    }\n",
       "</style>\n",
       "<table border=\"1\" class=\"dataframe\">\n",
       "  <thead>\n",
       "    <tr style=\"text-align: right;\">\n",
       "      <th></th>\n",
       "      <th>primary_title</th>\n",
       "      <th>averagerating</th>\n",
       "      <th>studio</th>\n",
       "    </tr>\n",
       "    <tr>\n",
       "      <th>tconst</th>\n",
       "      <th></th>\n",
       "      <th></th>\n",
       "      <th></th>\n",
       "    </tr>\n",
       "  </thead>\n",
       "  <tbody>\n",
       "    <tr>\n",
       "      <td>tt9151704</td>\n",
       "      <td>Burn the Stage: The Movie</td>\n",
       "      <td>8.8</td>\n",
       "      <td>Trafalgar</td>\n",
       "    </tr>\n",
       "    <tr>\n",
       "      <td>tt1375666</td>\n",
       "      <td>Inception</td>\n",
       "      <td>8.8</td>\n",
       "      <td>WB</td>\n",
       "    </tr>\n",
       "    <tr>\n",
       "      <td>tt3313066</td>\n",
       "      <td>Coriolanus</td>\n",
       "      <td>8.7</td>\n",
       "      <td>Wein.</td>\n",
       "    </tr>\n",
       "    <tr>\n",
       "      <td>tt1424432</td>\n",
       "      <td>Senna</td>\n",
       "      <td>8.6</td>\n",
       "      <td>PDA</td>\n",
       "    </tr>\n",
       "    <tr>\n",
       "      <td>tt0816692</td>\n",
       "      <td>Interstellar</td>\n",
       "      <td>8.6</td>\n",
       "      <td>Par.</td>\n",
       "    </tr>\n",
       "    <tr>\n",
       "      <td>...</td>\n",
       "      <td>...</td>\n",
       "      <td>...</td>\n",
       "      <td>...</td>\n",
       "    </tr>\n",
       "    <tr>\n",
       "      <td>tt1702014</td>\n",
       "      <td>The Way He Looks</td>\n",
       "      <td>7.9</td>\n",
       "      <td>Strand</td>\n",
       "    </tr>\n",
       "    <tr>\n",
       "      <td>tt1065073</td>\n",
       "      <td>Boyhood</td>\n",
       "      <td>7.9</td>\n",
       "      <td>IFC</td>\n",
       "    </tr>\n",
       "    <tr>\n",
       "      <td>tt1816518</td>\n",
       "      <td>Ernest &amp; Celestine</td>\n",
       "      <td>7.9</td>\n",
       "      <td>GK</td>\n",
       "    </tr>\n",
       "    <tr>\n",
       "      <td>tt4698684</td>\n",
       "      <td>Hunt for the Wilderpeople</td>\n",
       "      <td>7.9</td>\n",
       "      <td>Orch.</td>\n",
       "    </tr>\n",
       "    <tr>\n",
       "      <td>tt3501632</td>\n",
       "      <td>Thor: Ragnarok</td>\n",
       "      <td>7.9</td>\n",
       "      <td>BV</td>\n",
       "    </tr>\n",
       "  </tbody>\n",
       "</table>\n",
       "<p>100 rows × 3 columns</p>\n",
       "</div>"
      ],
      "text/plain": [
       "                       primary_title  averagerating     studio\n",
       "tconst                                                        \n",
       "tt9151704  Burn the Stage: The Movie            8.8  Trafalgar\n",
       "tt1375666                  Inception            8.8         WB\n",
       "tt3313066                 Coriolanus            8.7      Wein.\n",
       "tt1424432                      Senna            8.6        PDA\n",
       "tt0816692               Interstellar            8.6       Par.\n",
       "...                              ...            ...        ...\n",
       "tt1702014           The Way He Looks            7.9     Strand\n",
       "tt1065073                    Boyhood            7.9        IFC\n",
       "tt1816518         Ernest & Celestine            7.9         GK\n",
       "tt4698684  Hunt for the Wilderpeople            7.9      Orch.\n",
       "tt3501632             Thor: Ragnarok            7.9         BV\n",
       "\n",
       "[100 rows x 3 columns]"
      ]
     },
     "execution_count": 118,
     "metadata": {},
     "output_type": "execute_result"
    }
   ],
   "source": [
    "#selecting relevant rows & columns to produce DF for the top100 rated movies\n",
    "cols= ['primary_title', 'averagerating', 'studio']\n",
    "top100rated = studio_ratings[cols].sort_values('averagerating', ascending=False).iloc[:100]\n",
    "top100rated"
   ]
  },
  {
   "cell_type": "code",
   "execution_count": 149,
   "metadata": {},
   "outputs": [
    {
     "data": {
      "image/png": "[encoded data removed]",
      "text/plain": [
       "<Figure size 1296x1080 with 1 Axes>"
      ]
     },
     "metadata": {},
     "output_type": "display_data"
    }
   ],
   "source": [
    "#boxplot showing rating distribution for each studio\n",
    "fig, ax = plt.subplots(figsize=(18,15))\n",
    "ax=sns.boxplot(x='averagerating', y='studio', data=top100rated)\n",
    "ax.set(xlabel='Average Rating', ylabel='Studio Name', title='Distribution of Rating for Studios in the Top100 rated movies' );"
   ]
  },
  {
   "cell_type": "code",
   "execution_count": 147,
   "metadata": {
    "scrolled": false
   },
   "outputs": [
    {
     "data": {
      "image/png": "[encoded data removed]",
      "text/plain": [
       "<Figure size 1296x1080 with 1 Axes>"
      ]
     },
     "metadata": {},
     "output_type": "display_data"
    }
   ],
   "source": [
    "#horizontal bar chart for studio count\n",
    "fig, ax = plt.subplots(figsize=(18,15))\n",
    "ax = sns.countplot(y='studio', data=top100rated)\n",
    "ax.set(xlabel='Number of Movies', ylabel='Studio Name', title='Movie count per Studio in the Top100 rated movies');"
   ]
  },
  {
   "cell_type": "code",
   "execution_count": 122,
   "metadata": {
    "scrolled": true
   },
   "outputs": [
    {
     "data": {
      "text/html": [
       "<div>\n",
       "<style scoped>\n",
       "    .dataframe tbody tr th:only-of-type {\n",
       "        vertical-align: middle;\n",
       "    }\n",
       "\n",
       "    .dataframe tbody tr th {\n",
       "        vertical-align: top;\n",
       "    }\n",
       "\n",
       "    .dataframe thead th {\n",
       "        text-align: right;\n",
       "    }\n",
       "</style>\n",
       "<table border=\"1\" class=\"dataframe\">\n",
       "  <thead>\n",
       "    <tr style=\"text-align: right;\">\n",
       "      <th></th>\n",
       "      <th>studio</th>\n",
       "      <th>Max_Rating</th>\n",
       "      <th>Mean_Rating</th>\n",
       "      <th>Number_of_Movies</th>\n",
       "    </tr>\n",
       "  </thead>\n",
       "  <tbody>\n",
       "    <tr>\n",
       "      <td>0</td>\n",
       "      <td>Trafalgar</td>\n",
       "      <td>8.8</td>\n",
       "      <td>8.800000</td>\n",
       "      <td>1</td>\n",
       "    </tr>\n",
       "    <tr>\n",
       "      <td>1</td>\n",
       "      <td>WB</td>\n",
       "      <td>8.8</td>\n",
       "      <td>8.300000</td>\n",
       "      <td>6</td>\n",
       "    </tr>\n",
       "    <tr>\n",
       "      <td>2</td>\n",
       "      <td>Wein.</td>\n",
       "      <td>8.7</td>\n",
       "      <td>8.157143</td>\n",
       "      <td>7</td>\n",
       "    </tr>\n",
       "    <tr>\n",
       "      <td>3</td>\n",
       "      <td>PDA</td>\n",
       "      <td>8.6</td>\n",
       "      <td>8.300000</td>\n",
       "      <td>2</td>\n",
       "    </tr>\n",
       "    <tr>\n",
       "      <td>4</td>\n",
       "      <td>Par.</td>\n",
       "      <td>8.6</td>\n",
       "      <td>8.300000</td>\n",
       "      <td>3</td>\n",
       "    </tr>\n",
       "    <tr>\n",
       "      <td>5</td>\n",
       "      <td>Osci.</td>\n",
       "      <td>8.5</td>\n",
       "      <td>8.500000</td>\n",
       "      <td>1</td>\n",
       "    </tr>\n",
       "    <tr>\n",
       "      <td>6</td>\n",
       "      <td>UTV</td>\n",
       "      <td>8.5</td>\n",
       "      <td>8.300000</td>\n",
       "      <td>4</td>\n",
       "    </tr>\n",
       "    <tr>\n",
       "      <td>7</td>\n",
       "      <td>SPC</td>\n",
       "      <td>8.5</td>\n",
       "      <td>8.287500</td>\n",
       "      <td>8</td>\n",
       "    </tr>\n",
       "    <tr>\n",
       "      <td>8</td>\n",
       "      <td>Eros</td>\n",
       "      <td>8.5</td>\n",
       "      <td>8.225000</td>\n",
       "      <td>4</td>\n",
       "    </tr>\n",
       "    <tr>\n",
       "      <td>9</td>\n",
       "      <td>BV</td>\n",
       "      <td>8.5</td>\n",
       "      <td>8.187500</td>\n",
       "      <td>8</td>\n",
       "    </tr>\n",
       "    <tr>\n",
       "      <td>10</td>\n",
       "      <td>FUN</td>\n",
       "      <td>8.4</td>\n",
       "      <td>8.400000</td>\n",
       "      <td>1</td>\n",
       "    </tr>\n",
       "    <tr>\n",
       "      <td>11</td>\n",
       "      <td>Drft.</td>\n",
       "      <td>8.3</td>\n",
       "      <td>8.300000</td>\n",
       "      <td>1</td>\n",
       "    </tr>\n",
       "    <tr>\n",
       "      <td>12</td>\n",
       "      <td>GrtIndia</td>\n",
       "      <td>8.3</td>\n",
       "      <td>8.300000</td>\n",
       "      <td>1</td>\n",
       "    </tr>\n",
       "    <tr>\n",
       "      <td>13</td>\n",
       "      <td>Uni.</td>\n",
       "      <td>8.3</td>\n",
       "      <td>8.100000</td>\n",
       "      <td>2</td>\n",
       "    </tr>\n",
       "    <tr>\n",
       "      <td>14</td>\n",
       "      <td>Magn.</td>\n",
       "      <td>8.3</td>\n",
       "      <td>8.057143</td>\n",
       "      <td>7</td>\n",
       "    </tr>\n",
       "    <tr>\n",
       "      <td>15</td>\n",
       "      <td>Gold.</td>\n",
       "      <td>8.2</td>\n",
       "      <td>8.200000</td>\n",
       "      <td>1</td>\n",
       "    </tr>\n",
       "    <tr>\n",
       "      <td>16</td>\n",
       "      <td>NGE</td>\n",
       "      <td>8.2</td>\n",
       "      <td>8.200000</td>\n",
       "      <td>1</td>\n",
       "    </tr>\n",
       "    <tr>\n",
       "      <td>17</td>\n",
       "      <td>Relbig.</td>\n",
       "      <td>8.2</td>\n",
       "      <td>8.200000</td>\n",
       "      <td>1</td>\n",
       "    </tr>\n",
       "    <tr>\n",
       "      <td>18</td>\n",
       "      <td>SHO</td>\n",
       "      <td>8.2</td>\n",
       "      <td>8.200000</td>\n",
       "      <td>1</td>\n",
       "    </tr>\n",
       "    <tr>\n",
       "      <td>19</td>\n",
       "      <td>FoxS</td>\n",
       "      <td>8.2</td>\n",
       "      <td>8.100000</td>\n",
       "      <td>4</td>\n",
       "    </tr>\n",
       "    <tr>\n",
       "      <td>20</td>\n",
       "      <td>LGF</td>\n",
       "      <td>8.2</td>\n",
       "      <td>8.100000</td>\n",
       "      <td>3</td>\n",
       "    </tr>\n",
       "    <tr>\n",
       "      <td>21</td>\n",
       "      <td>Elev.</td>\n",
       "      <td>8.2</td>\n",
       "      <td>8.100000</td>\n",
       "      <td>2</td>\n",
       "    </tr>\n",
       "    <tr>\n",
       "      <td>22</td>\n",
       "      <td>A24</td>\n",
       "      <td>8.2</td>\n",
       "      <td>8.050000</td>\n",
       "      <td>2</td>\n",
       "    </tr>\n",
       "    <tr>\n",
       "      <td>23</td>\n",
       "      <td>BSC</td>\n",
       "      <td>8.1</td>\n",
       "      <td>8.100000</td>\n",
       "      <td>1</td>\n",
       "    </tr>\n",
       "    <tr>\n",
       "      <td>24</td>\n",
       "      <td>P/DW</td>\n",
       "      <td>8.1</td>\n",
       "      <td>8.100000</td>\n",
       "      <td>1</td>\n",
       "    </tr>\n",
       "    <tr>\n",
       "      <td>25</td>\n",
       "      <td>Pala.</td>\n",
       "      <td>8.1</td>\n",
       "      <td>8.100000</td>\n",
       "      <td>1</td>\n",
       "    </tr>\n",
       "    <tr>\n",
       "      <td>26</td>\n",
       "      <td>RAtt.</td>\n",
       "      <td>8.1</td>\n",
       "      <td>8.100000</td>\n",
       "      <td>1</td>\n",
       "    </tr>\n",
       "    <tr>\n",
       "      <td>27</td>\n",
       "      <td>RTWC</td>\n",
       "      <td>8.1</td>\n",
       "      <td>8.100000</td>\n",
       "      <td>1</td>\n",
       "    </tr>\n",
       "    <tr>\n",
       "      <td>28</td>\n",
       "      <td>UTMW</td>\n",
       "      <td>8.1</td>\n",
       "      <td>8.100000</td>\n",
       "      <td>1</td>\n",
       "    </tr>\n",
       "    <tr>\n",
       "      <td>29</td>\n",
       "      <td>Fox</td>\n",
       "      <td>8.1</td>\n",
       "      <td>8.016667</td>\n",
       "      <td>6</td>\n",
       "    </tr>\n",
       "    <tr>\n",
       "      <td>30</td>\n",
       "      <td>GK</td>\n",
       "      <td>8.1</td>\n",
       "      <td>8.000000</td>\n",
       "      <td>3</td>\n",
       "    </tr>\n",
       "    <tr>\n",
       "      <td>31</td>\n",
       "      <td>IFC</td>\n",
       "      <td>8.1</td>\n",
       "      <td>8.000000</td>\n",
       "      <td>2</td>\n",
       "    </tr>\n",
       "    <tr>\n",
       "      <td>32</td>\n",
       "      <td>ORF</td>\n",
       "      <td>8.1</td>\n",
       "      <td>8.000000</td>\n",
       "      <td>2</td>\n",
       "    </tr>\n",
       "    <tr>\n",
       "      <td>33</td>\n",
       "      <td>Orch.</td>\n",
       "      <td>8.1</td>\n",
       "      <td>8.000000</td>\n",
       "      <td>2</td>\n",
       "    </tr>\n",
       "    <tr>\n",
       "      <td>34</td>\n",
       "      <td>LG/S</td>\n",
       "      <td>8.0</td>\n",
       "      <td>8.000000</td>\n",
       "      <td>2</td>\n",
       "    </tr>\n",
       "    <tr>\n",
       "      <td>35</td>\n",
       "      <td>Cdgm.</td>\n",
       "      <td>8.0</td>\n",
       "      <td>8.000000</td>\n",
       "      <td>1</td>\n",
       "    </tr>\n",
       "    <tr>\n",
       "      <td>36</td>\n",
       "      <td>Focus</td>\n",
       "      <td>8.0</td>\n",
       "      <td>8.000000</td>\n",
       "      <td>1</td>\n",
       "    </tr>\n",
       "    <tr>\n",
       "      <td>37</td>\n",
       "      <td>VE</td>\n",
       "      <td>8.0</td>\n",
       "      <td>8.000000</td>\n",
       "      <td>1</td>\n",
       "    </tr>\n",
       "    <tr>\n",
       "      <td>38</td>\n",
       "      <td>Vari.</td>\n",
       "      <td>8.0</td>\n",
       "      <td>8.000000</td>\n",
       "      <td>1</td>\n",
       "    </tr>\n",
       "    <tr>\n",
       "      <td>39</td>\n",
       "      <td>Strand</td>\n",
       "      <td>7.9</td>\n",
       "      <td>7.900000</td>\n",
       "      <td>1</td>\n",
       "    </tr>\n",
       "    <tr>\n",
       "      <td>40</td>\n",
       "      <td>WB (NL)</td>\n",
       "      <td>7.9</td>\n",
       "      <td>7.900000</td>\n",
       "      <td>1</td>\n",
       "    </tr>\n",
       "  </tbody>\n",
       "</table>\n",
       "</div>"
      ],
      "text/plain": [
       "       studio  Max_Rating  Mean_Rating  Number_of_Movies\n",
       "0   Trafalgar         8.8     8.800000                 1\n",
       "1          WB         8.8     8.300000                 6\n",
       "2       Wein.         8.7     8.157143                 7\n",
       "3         PDA         8.6     8.300000                 2\n",
       "4        Par.         8.6     8.300000                 3\n",
       "5       Osci.         8.5     8.500000                 1\n",
       "6         UTV         8.5     8.300000                 4\n",
       "7         SPC         8.5     8.287500                 8\n",
       "8        Eros         8.5     8.225000                 4\n",
       "9          BV         8.5     8.187500                 8\n",
       "10        FUN         8.4     8.400000                 1\n",
       "11      Drft.         8.3     8.300000                 1\n",
       "12   GrtIndia         8.3     8.300000                 1\n",
       "13       Uni.         8.3     8.100000                 2\n",
       "14      Magn.         8.3     8.057143                 7\n",
       "15      Gold.         8.2     8.200000                 1\n",
       "16        NGE         8.2     8.200000                 1\n",
       "17    Relbig.         8.2     8.200000                 1\n",
       "18        SHO         8.2     8.200000                 1\n",
       "19       FoxS         8.2     8.100000                 4\n",
       "20        LGF         8.2     8.100000                 3\n",
       "21      Elev.         8.2     8.100000                 2\n",
       "22        A24         8.2     8.050000                 2\n",
       "23        BSC         8.1     8.100000                 1\n",
       "24       P/DW         8.1     8.100000                 1\n",
       "25      Pala.         8.1     8.100000                 1\n",
       "26      RAtt.         8.1     8.100000                 1\n",
       "27       RTWC         8.1     8.100000                 1\n",
       "28       UTMW         8.1     8.100000                 1\n",
       "29        Fox         8.1     8.016667                 6\n",
       "30         GK         8.1     8.000000                 3\n",
       "31        IFC         8.1     8.000000                 2\n",
       "32        ORF         8.1     8.000000                 2\n",
       "33      Orch.         8.1     8.000000                 2\n",
       "34       LG/S         8.0     8.000000                 2\n",
       "35      Cdgm.         8.0     8.000000                 1\n",
       "36      Focus         8.0     8.000000                 1\n",
       "37         VE         8.0     8.000000                 1\n",
       "38      Vari.         8.0     8.000000                 1\n",
       "39     Strand         7.9     7.900000                 1\n",
       "40    WB (NL)         7.9     7.900000                 1"
      ]
     },
     "execution_count": 122,
     "metadata": {},
     "output_type": "execute_result"
    }
   ],
   "source": [
    "#grouping by studio and returning movie count, max and mean ratings for top100rated\n",
    "studios_top100= top100rated.groupby('studio').agg(Max_Rating = ('averagerating', 'max'),Mean_Rating=('averagerating', 'mean'), Number_of_Movies=('averagerating', 'count')).sort_values(['Max_Rating', 'Mean_Rating', 'Number_of_Movies'], ascending=[False, False, False]).reset_index()\n",
    "studios_top100"
   ]
  },
  {
   "cell_type": "code",
   "execution_count": 155,
   "metadata": {},
   "outputs": [
    {
     "data": {
      "image/png": "[encoded data removed]",
      "text/plain": [
       "<Figure size 1080x936 with 1 Axes>"
      ]
     },
     "metadata": {},
     "output_type": "display_data"
    }
   ],
   "source": [
    "#scatter plot for mean rating per studio, with colour representing number of movies by each studio in the top100 rated\n",
    "fig, ax = plt.subplots(figsize=(15,13))\n",
    "ax= sns.scatterplot(x='studio', y='Mean_Rating', data=studios_top100, hue='Number_of_Movies', s=150)\n",
    "ax.tick_params(axis='x', labelrotation=90);\n",
    "ax.set(xlabel='Studio', ylabel='Mean Rating', title='Top100 Rated Movies: Mean Rating for Studio');                                                                    "
   ]
  },
  {
   "cell_type": "markdown",
   "metadata": {},
   "source": [
    "### Results & Action\n",
    "\n",
    "It is important for Microsoft to identify who the current market leaders are as this is vital for understanding the movie industry and predicting the direction and nature of future trends. To be solid competitors, Microsoft must first identify and comprehend the attributes of the environment in which they wish to compete.\n",
    "\n",
    "This analysis was carried out to identify which Studios are behind the top100 rated movies.\n",
    "\n",
    "\n",
    "1. 'SPC'(Sony Pictures Classics) and 'BV' (Buena Vista, aka Disney) were joint top for movie count and each produced 8 movies in the top100 rated.  Followed by 'MP' (Magnolia Pictures) and 'WB' (Warner Bros) each contributing 7 movies to the top100. \n",
    "\n",
    "\n",
    "2. The movies with a high mean rating have been produced by 'WB', 'UTV', 'SPC', and 'Eros'. (where the Studio has produced 5 or more movies in the top100) \n",
    "\n",
    "3. Looking at the distribution of the average rating for movies produced by these Studios, the strong performers are 'WB', 'PDA' and 'SPC'.\n",
    "\n",
    "\n",
    "SPC(Sony Pictures Classics) can be awarded position of market leaders, closely followed by BV (Disney) and WB.\n",
    "Microsoft's investment of resources into market research should focus on these studios."
   ]
  }
 ],
 "metadata": {
  "kernelspec": {
   "display_name": "Python [conda env:learn-env] *",
   "language": "python",
   "name": "conda-env-learn-env-py-2"
  },
  "language_info": {
   "codemirror_mode": {
    "name": "ipython",
    "version": 3
   },
   "file_extension": ".py",
   "mimetype": "text/x-python",
   "name": "python",
   "nbconvert_exporter": "python",
   "pygments_lexer": "ipython3",
   "version": "3.6.9"
  }
 },
 "nbformat": 4,
 "nbformat_minor": 2
}
